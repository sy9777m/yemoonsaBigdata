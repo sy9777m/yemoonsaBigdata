{
 "cells": [
  {
   "cell_type": "code",
   "execution_count": null,
   "metadata": {},
   "outputs": [],
   "source": [
    "import pandas as pd\n",
    "import numpy as np\n",
    "\n",
    "X_test = pd.read_csv(\"./datasets/Part3/504_x_test.csv\")\n",
    "X_train = pd.read_csv(\"./datasets/Part3/504_x_train.csv\")\n",
    "y_train = pd.read_csv(\"./datasets/Part3/504_y_train.csv\")\n",
    "\n",
    "# 사용자 코딩\n",
    "\n",
    "\n",
    "# 답안 제출 참고\n",
    "# 아래 코드 예측변수와 수험번호를 개인별로 변경하여 활용\n",
    "pd.DataFrame({'index': X_test.index, 'y_pred': pred}).to_csv('003000000.csv', index=False)"
   ]
  },
  {
   "cell_type": "code",
   "execution_count": null,
   "metadata": {},
   "outputs": [],
   "source": [
    "import pandas as pd\n",
    "import numpy as np\n",
    "from sklearn.ensemble import RandomForestClassifier\n",
    "from sklearn.preprocessing import LabelEncoder\n",
    "\n",
    "X_test = pd.read_csv(\"../datasets/Part3/404_x_test.csv\")\n",
    "X_train = pd.read_csv(\"../datasets/Part3/404_x_train.csv\")\n",
    "y_train = pd.read_csv(\"../datasets/Part3/404_y_train.csv\")\n",
    "\n",
    "# 사용자 코딩\n",
    "\n",
    "COL_NUM = ['Age', 'Work_Experience', 'Family_Size']\n",
    "COL_CAT = ['Gender', 'Ever_Married', 'Graduated', 'Profession', 'Spending_Score']\n",
    "\n",
    "X = pd.concat([X_train, X_test])\n",
    "\n",
    "for cat in COL_CAT:\n",
    "    le = LabelEncoder()\n",
    "    le.fit(X[cat])\n",
    "    X_train[cat] = le.transform(X_train[cat])\n",
    "    X_test[cat] = le.transform(X_test[cat])\n",
    "\n",
    "le = LabelEncoder()\n",
    "le.fit(y_train['Segmentation'])\n",
    "y_train['Segmentation'] = le.transform(y_train['Segmentation'])\n",
    "\n",
    "rf = RandomForestClassifier()\n",
    "rf.fit(X_train, y_train['Segmentation'])\n",
    "pred = rf.predict(X_test)\n",
    "pred = le.inverse_transform(pred)\n",
    "\n",
    "# 답안 제출 참고\n",
    "# 아래 코드 예측변수와 수험번호를 개인별로 변경하여 활용\n",
    "pd.DataFrame({'index': X_test.index, 'y_pred': pred}).to_csv('003000000.csv', index=False)"
   ]
  },
  {
   "attachments": {},
   "cell_type": "markdown",
   "metadata": {},
   "source": [
    "# 3유형"
   ]
  },
  {
   "cell_type": "code",
   "execution_count": 4,
   "metadata": {},
   "outputs": [
    {
     "name": "stdout",
     "output_type": "stream",
     "text": [
      "9.96\n",
      "-0.15\n",
      "0.8816\n",
      "채택\n"
     ]
    }
   ],
   "source": [
    "import pandas as pd\n",
    "import numpy as np\n",
    "import scipy.stats as stats\n",
    "\n",
    "a = pd.read_csv(\"./datasets/supplement/airquality.csv\")\n",
    "\n",
    "X = a['Wind'].mean()\n",
    "print(np.round(X, 2))\n",
    "\n",
    "t_value, p_value = stats.ttest_1samp(a['Wind'], 10)\n",
    "\n",
    "print(np.round(t_value, 2))\n",
    "\n",
    "print(np.round(p_value, 4))\n",
    "\n",
    "print('채택')"
   ]
  },
  {
   "cell_type": "code",
   "execution_count": 6,
   "metadata": {},
   "outputs": [
    {
     "name": "stdout",
     "output_type": "stream",
     "text": [
      "102.65 135.26\n",
      "-4.41\n",
      "0.0\n",
      "기각\n"
     ]
    }
   ],
   "source": [
    "import pandas as pd\n",
    "import numpy as np\n",
    "import scipy.stats as stats\n",
    "\n",
    "a = pd.read_csv(\"./datasets/supplement/chickweight.csv\")\n",
    "\n",
    "print(round(a[a['Diet'] == 1]['weight'].mean(), 2), round(a[a['Diet'] == 4]['weight'].mean(), 2) )\n",
    "\n",
    "t_value, p_value = stats.ttest_ind(a[a['Diet'] == 1]['weight'], a[a['Diet'] == 4]['weight'], equal_var=False)\n",
    "print(round(t_value, 2))\n",
    "\n",
    "print( round(p_value, 4) )\n",
    "\n",
    "if p_value >= 0.05:\n",
    "    print('채택')\n",
    "else:\n",
    "    print('기각')"
   ]
  },
  {
   "cell_type": "code",
   "execution_count": null,
   "metadata": {},
   "outputs": [],
   "source": [
    "import pandas as pd\n",
    "import scipy.stats as stats\n",
    "from math import sqrt\n",
    "\n",
    "a = pd.read_csv(\"../datasets/supplement/StudentsPerformance1.csv\", encoding='cp949')\n",
    "\n",
    "X_A = a.loc[a.인종=='A그룹', '수학 점수']\n",
    "X_B = a.loc[a.인종=='B그룹', '수학 점수']\n",
    "X_C = a.loc[a.인종=='C그룹', '수학 점수']\n",
    "X_D = a.loc[a.인종=='D그룹', '수학 점수']\n",
    "\n",
    "X_A_mean = X_A.mean()\n",
    "X_B_mean = X_B.mean()\n",
    "X_C_mean = X_C.mean()\n",
    "X_D_mean = X_D.mean()\n",
    "\n",
    "print(round(X_A_mean, 2), round(X_B_mean, 2), round(X_C_mean, 2), round(X_D_mean, 2))\n",
    "\n",
    "test_result = stats.f_oneway(X_A, X_B, X_C, X_D)\n",
    "print(round(test_result.statistic, 2))\n",
    "\n",
    "p_value = test_result.pvalue\n",
    "\n",
    "print(round(p_value, 4))\n",
    "\n",
    "if p_value >= 0.05:\n",
    "    print('채택')\n",
    "else:\n",
    "    print('기각')"
   ]
  },
  {
   "cell_type": "code",
   "execution_count": null,
   "metadata": {},
   "outputs": [],
   "source": [
    "import pandas as pd\n",
    "import scipy.stats as stats\n",
    "from math import sqrt\n",
    "\n",
    "a = pd.read_csv(\"../datasets/supplement/StudentsPerformance2.csv\", encoding='cp949')\n",
    "\n",
    "table = pd.crosstab(a['성별'], a['학업 성적'])\n",
    "\n",
    "X1 = table.loc['남성', :]\n",
    "X2 = table.loc['여성', :]\n",
    "\n",
    "X1_G = X1['우수']\n",
    "X2_G = X2['우수']\n",
    "\n",
    "print(int(abs(X1_G-X2_G)))\n",
    "\n",
    "test_result = stats.chi2_contingency([X1, X2])\n",
    "print(round(test_result.statistic, 2))\n",
    "\n",
    "p_value = test_result.pvalue\n",
    "print(round(p_value, 4))\n",
    "\n",
    "if p_value >= 0.05:\n",
    "    print('채택')\n",
    "else:\n",
    "    print('기각')"
   ]
  }
 ],
 "metadata": {
  "kernelspec": {
   "display_name": "Python 3",
   "language": "python",
   "name": "python3"
  },
  "language_info": {
   "codemirror_mode": {
    "name": "ipython",
    "version": 3
   },
   "file_extension": ".py",
   "mimetype": "text/x-python",
   "name": "python",
   "nbconvert_exporter": "python",
   "pygments_lexer": "ipython3",
   "version": "3.11.4"
  },
  "orig_nbformat": 4
 },
 "nbformat": 4,
 "nbformat_minor": 2
}
