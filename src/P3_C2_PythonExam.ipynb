{
  "cells": [
    {
      "cell_type": "markdown",
      "metadata": {
        "colab_type": "text",
        "id": "view-in-github"
      },
      "source": [
        "<a href=\"https://colab.research.google.com/github/AnalyticsKnight/yemoonsaBigdata/blob/dev/src/P3_C2_PythonExam.ipynb\" target=\"_parent\"><img src=\"https://colab.research.google.com/assets/colab-badge.svg\" alt=\"Open In Colab\"/></a>"
      ]
    },
    {
      "cell_type": "markdown",
      "metadata": {
        "id": "CeSIU7NxqpAD"
      },
      "source": [
        "# **Chapter 2. 빅데이터분석기사 3회**"
      ]
    },
    {
      "cell_type": "markdown",
      "metadata": {
        "id": "MX3-XCZUqyfD"
      },
      "source": [
        "## 1. 필답형"
      ]
    },
    {
      "cell_type": "markdown",
      "metadata": {
        "id": "fCTuF6dRq1UE"
      },
      "source": [
        "## 2. 작업형 제1유형"
      ]
    },
    {
      "cell_type": "markdown",
      "metadata": {
        "id": "ehtgdC2-8Asz"
      },
      "source": [
        "#### 000 소스 및 데이터 동기화"
      ]
    },
    {
      "cell_type": "code",
      "execution_count": null,
      "metadata": {
        "colab": {
          "base_uri": "https://localhost:8080/"
        },
        "id": "VqH3TusIsbzw",
        "outputId": "82cb6343-bf8d-41ae-883e-d5e8e71f0056"
      },
      "outputs": [
        {
          "name": "stdout",
          "output_type": "stream",
          "text": [
            "Cloning into 'yemoonsaBigdata'...\n",
            "remote: Enumerating objects: 538, done.\u001b[K\n",
            "remote: Counting objects: 100% (175/175), done.\u001b[K\n",
            "remote: Compressing objects: 100% (131/131), done.\u001b[K\n",
            "remote: Total 538 (delta 90), reused 49 (delta 44), pack-reused 363\u001b[K\n",
            "Receiving objects: 100% (538/538), 10.63 MiB | 15.26 MiB/s, done.\n",
            "Resolving deltas: 100% (275/275), done.\n"
          ]
        }
      ],
      "source": [
        "!git clone https://github.com/AnalyticsKnight/yemoonsaBigdata/"
      ]
    },
    {
      "cell_type": "markdown",
      "metadata": {
        "id": "9HLg20Ynq_IF"
      },
      "source": [
        "### (1) 첫번째 문제"
      ]
    },
    {
      "cell_type": "markdown",
      "metadata": {
        "id": "S26cLOolE4AH"
      },
      "source": [
        "#### 221-01 데이터 불러오기"
      ]
    },
    {
      "cell_type": "code",
      "execution_count": 2,
      "metadata": {
        "colab": {
          "base_uri": "https://localhost:8080/"
        },
        "id": "2KodBGEJy5y1",
        "outputId": "2aabcac4-cc5c-460e-cb5d-21c0316a98b8"
      },
      "outputs": [
        {
          "name": "stdout",
          "output_type": "stream",
          "text": [
            "   longitude  latitude  housing_median_age  total_rooms  total_bedrooms  \\\n",
            "0    -122.23     37.88                41.0        880.0           129.0   \n",
            "1    -122.22     37.86                21.0       7099.0          1106.0   \n",
            "2    -122.24     37.85                52.0       1467.0           190.0   \n",
            "3    -122.25     37.85                52.0       1274.0           235.0   \n",
            "4    -122.25     37.85                52.0       1627.0           280.0   \n",
            "\n",
            "   population  households  median_income  median_house_value ocean_proximity  \n",
            "0       322.0       126.0         8.3252            452600.0        NEAR BAY  \n",
            "1      2401.0      1138.0         8.3014            358500.0        NEAR BAY  \n",
            "2       496.0       177.0         7.2574            352100.0        NEAR BAY  \n",
            "3       558.0       219.0         5.6431            341300.0        NEAR BAY  \n",
            "4       565.0       259.0         3.8462            342200.0        NEAR BAY  \n"
          ]
        }
      ],
      "source": [
        "import pandas as pd\n",
        "\n",
        "df = pd.read_csv(\"../datasets/Part3/301_housing.csv\")\n",
        "print(df.head())"
      ]
    },
    {
      "cell_type": "code",
      "execution_count": 9,
      "metadata": {},
      "outputs": [],
      "source": [
        "df.drop_duplicates(inplace=True)"
      ]
    },
    {
      "cell_type": "code",
      "execution_count": 10,
      "metadata": {},
      "outputs": [],
      "source": [
        "df.reset_index(inplace=True, drop=True)"
      ]
    },
    {
      "cell_type": "code",
      "execution_count": 14,
      "metadata": {},
      "outputs": [
        {
          "data": {
            "text/plain": [
              "19"
            ]
          },
          "execution_count": 14,
          "metadata": {},
          "output_type": "execute_result"
        }
      ],
      "source": [
        "int(df[:int(len(df) * 0.7)]['housing_median_age'].quantile(0.25))"
      ]
    },
    {
      "cell_type": "markdown",
      "metadata": {
        "id": "YrI8J0sKGW6t"
      },
      "source": [
        "#### 221-02 결측값 탐색하기"
      ]
    },
    {
      "cell_type": "code",
      "execution_count": null,
      "metadata": {
        "colab": {
          "base_uri": "https://localhost:8080/"
        },
        "id": "5yysBmPMxoOT",
        "outputId": "78f3676c-df1f-4178-875b-ceceead42021"
      },
      "outputs": [
        {
          "name": "stdout",
          "output_type": "stream",
          "text": [
            "longitude               0\n",
            "latitude                0\n",
            "housing_median_age      0\n",
            "total_rooms             0\n",
            "total_bedrooms        207\n",
            "population              0\n",
            "households              0\n",
            "median_income           0\n",
            "median_house_value      0\n",
            "ocean_proximity         0\n",
            "dtype: int64\n"
          ]
        }
      ],
      "source": [
        "print(df.isnull().sum())"
      ]
    },
    {
      "cell_type": "markdown",
      "metadata": {
        "id": "lLwYEwleGcXK"
      },
      "source": [
        "#### 221-03 결측값 제거하기"
      ]
    },
    {
      "cell_type": "code",
      "execution_count": null,
      "metadata": {
        "colab": {
          "base_uri": "https://localhost:8080/"
        },
        "id": "Daoa2qeZxBJ5",
        "outputId": "a36caf22-3d4a-49c5-f1fe-9daed8a46971"
      },
      "outputs": [
        {
          "name": "stdout",
          "output_type": "stream",
          "text": [
            "원본데이터 건수 :  20640\n",
            "결측값제거 데이터 건수 :  20433\n"
          ]
        }
      ],
      "source": [
        "df_dropna = df.dropna().reset_index()\n",
        "\n",
        "print(\"원본데이터 건수 : \", len(df))\n",
        "print(\"결측값제거 데이터 건수 : \", len(df_dropna))"
      ]
    },
    {
      "cell_type": "markdown",
      "metadata": {
        "id": "4uTaIMDVGeeY"
      },
      "source": [
        "#### 221-04 데이터 추출하기"
      ]
    },
    {
      "cell_type": "code",
      "execution_count": null,
      "metadata": {
        "colab": {
          "base_uri": "https://localhost:8080/"
        },
        "id": "SJUTXOK9xT42",
        "outputId": "1c2463f6-6f22-4d21-bd4f-ef0d19e1bc6a"
      },
      "outputs": [
        {
          "name": "stdout",
          "output_type": "stream",
          "text": [
            "70% 추출 데이터 건수 :  14303\n"
          ]
        }
      ],
      "source": [
        "rst_df = df_dropna.iloc[:int(len(df_dropna)*0.7)]\n",
        "\n",
        "print(\"70% 추출 데이터 건수 : \", len(rst_df))"
      ]
    },
    {
      "cell_type": "markdown",
      "metadata": {
        "id": "k5aO96_sGjLB"
      },
      "source": [
        "#### 221-05 결과 출력하기"
      ]
    },
    {
      "cell_type": "code",
      "execution_count": null,
      "metadata": {
        "colab": {
          "base_uri": "https://localhost:8080/"
        },
        "id": "at_ZLxSiyJbz",
        "outputId": "bac35bcf-5ad3-45c6-c3df-f6c57a977ad6"
      },
      "outputs": [
        {
          "name": "stdout",
          "output_type": "stream",
          "text": [
            "19\n"
          ]
        }
      ],
      "source": [
        "result = int(rst_df['housing_median_age'].quantile(0.25))\n",
        "\n",
        "print(result)"
      ]
    },
    {
      "cell_type": "code",
      "execution_count": null,
      "metadata": {
        "colab": {
          "base_uri": "https://localhost:8080/"
        },
        "id": "FaXVesT-sgE7",
        "outputId": "d973c69c-c7b0-423b-ed66-350e4946e451"
      },
      "outputs": [
        {
          "name": "stdout",
          "output_type": "stream",
          "text": [
            "19\n"
          ]
        }
      ],
      "source": [
        "## 전체 풀이 코드\n",
        "\n",
        "import pandas as pd\n",
        "\n",
        "df = pd.read_csv(\"/content/yemoonsaBigdata/datasets/Part3/301_housing.csv\")\n",
        "\n",
        "df_dropna = df.dropna().reset_index()\n",
        "rst_df = df_dropna.iloc[:int(len(df_dropna)*0.7)]\n",
        "\n",
        "result = int(rst_df['housing_median_age'].quantile(0.25))\n",
        "\n",
        "print(result) # 최종 결과값만 print되도록 해야 합니다."
      ]
    },
    {
      "cell_type": "markdown",
      "metadata": {
        "id": "tMFQ7VQJrGq6"
      },
      "source": [
        "### (2) 두번째 문제"
      ]
    },
    {
      "cell_type": "markdown",
      "metadata": {
        "id": "KfYfFEY9G39I"
      },
      "source": [
        "#### 222-01 데이터 불러오기 & 탐색하기"
      ]
    },
    {
      "cell_type": "code",
      "execution_count": 16,
      "metadata": {
        "colab": {
          "base_uri": "https://localhost:8080/"
        },
        "id": "7K0PwF-2zWkn",
        "outputId": "a2898f4a-49cb-48a2-d29a-cdf7e761647b"
      },
      "outputs": [
        {
          "name": "stdout",
          "output_type": "stream",
          "text": [
            "   year  Afghanistan  Albania  Algeria  Andorra  Angola  Antigua & Barbuda  \\\n",
            "0  1999            0     89.0     25.0    245.0   217.0              102.0   \n",
            "1  2000            0    132.0      0.0    138.0    57.0              128.0   \n",
            "2  2001            0     54.0     14.0    312.0    45.0               45.0   \n",
            "3  2002            0      4.9      0.7     12.4     5.9                4.9   \n",
            "\n",
            "   Argentina  Armenia  Australia  ...  Tanzania    USA  Uruguay  Uzbekistan  \\\n",
            "0      193.0     21.0      261.0  ...      36.0  249.0    115.0        25.0   \n",
            "1       25.0    179.0       72.0  ...       6.0  158.0     35.0       101.0   \n",
            "2      221.0     11.0      212.0  ...       1.0   84.0    220.0         8.0   \n",
            "3        8.3      3.8       10.4  ...       5.7    8.7      6.6         2.4   \n",
            "\n",
            "   Vanuatu  Venezuela  Vietnam  Yemen  Zambia  Zimbabwe  \n",
            "0     21.0      333.0      111    6.0    32.0      64.0  \n",
            "1     18.0      100.0        2    0.0    19.0      18.0  \n",
            "2     11.0        3.0        1    0.0     4.0       4.0  \n",
            "3      0.9        7.7        2    0.1     2.5       4.7  \n",
            "\n",
            "[4 rows x 194 columns]\n"
          ]
        }
      ],
      "source": [
        "import pandas as pd\n",
        "\n",
        "df = pd.read_csv(\"../datasets/Part3/302_worlddata.csv\")\n",
        "print(df.head(5))"
      ]
    },
    {
      "cell_type": "code",
      "execution_count": 36,
      "metadata": {},
      "outputs": [
        {
          "data": {
            "text/plain": [
              "81.01036269430051"
            ]
          },
          "execution_count": 36,
          "metadata": {},
          "output_type": "execute_result"
        }
      ],
      "source": []
    },
    {
      "cell_type": "code",
      "execution_count": 39,
      "metadata": {},
      "outputs": [
        {
          "data": {
            "text/plain": [
              "76"
            ]
          },
          "execution_count": 39,
          "metadata": {},
          "output_type": "execute_result"
        }
      ],
      "source": [
        "sum(df.T[1].iloc[1:] > df[df['year'] == 2000].T.iloc[1:].mean().values[0])"
      ]
    },
    {
      "attachments": {},
      "cell_type": "markdown",
      "metadata": {
        "id": "vU4qaCQTHT_x"
      },
      "source": [
        "#### 222-02 데이터 추출하기"
      ]
    },
    {
      "cell_type": "code",
      "execution_count": null,
      "metadata": {
        "colab": {
          "base_uri": "https://localhost:8080/"
        },
        "id": "JhCURG6VzsxU",
        "outputId": "f7c01d43-2851-42f0-d528-4f3c7156243e"
      },
      "outputs": [
        {
          "name": "stdout",
          "output_type": "stream",
          "text": [
            "   Afghanistan  Albania  Algeria  Andorra  Angola  Antigua & Barbuda  \\\n",
            "1            0    132.0      0.0    138.0    57.0              128.0   \n",
            "\n",
            "   Argentina  Armenia  Australia  Austria  ...  Tanzania    USA  Uruguay  \\\n",
            "1       25.0    179.0       72.0     75.0  ...       6.0  158.0     35.0   \n",
            "\n",
            "   Uzbekistan  Vanuatu  Venezuela  Vietnam  Yemen  Zambia  Zimbabwe  \n",
            "1       101.0     18.0      100.0        2    0.0    19.0      18.0  \n",
            "\n",
            "[1 rows x 193 columns]\n"
          ]
        }
      ],
      "source": [
        "df_2000 = df[df['year']==2000].drop('year', axis=1)\n",
        "print(df_2000)"
      ]
    },
    {
      "cell_type": "markdown",
      "metadata": {
        "id": "60bXw5acIs3p"
      },
      "source": [
        "####222-03 행/열 변환"
      ]
    },
    {
      "cell_type": "code",
      "execution_count": null,
      "metadata": {
        "colab": {
          "base_uri": "https://localhost:8080/"
        },
        "id": "7OGmmtzQVIXP",
        "outputId": "212ba33b-c9fe-422a-d52b-e38f20d0b240"
      },
      "outputs": [
        {
          "name": "stdout",
          "output_type": "stream",
          "text": [
            "             value\n",
            "Afghanistan    0.0\n",
            "Albania      132.0\n",
            "Algeria        0.0\n",
            "Andorra      138.0\n",
            "Angola        57.0\n",
            "...            ...\n",
            "Venezuela    100.0\n",
            "Vietnam        2.0\n",
            "Yemen          0.0\n",
            "Zambia        19.0\n",
            "Zimbabwe      18.0\n",
            "\n",
            "[193 rows x 1 columns]\n"
          ]
        }
      ],
      "source": [
        "df_2000.index = ['value']\n",
        "df_2000_T = df_2000.T\n",
        "print(df_2000_T)"
      ]
    },
    {
      "cell_type": "markdown",
      "metadata": {
        "id": "4oSJugngJeQi"
      },
      "source": [
        "####222-04 데이터 추출하기"
      ]
    },
    {
      "cell_type": "code",
      "execution_count": null,
      "metadata": {
        "colab": {
          "base_uri": "https://localhost:8080/"
        },
        "id": "2C19cLkj2ne9",
        "outputId": "5c80f918-a839-4c7f-b7e1-234c7b5dcd55"
      },
      "outputs": [
        {
          "name": "stdout",
          "output_type": "stream",
          "text": [
            "                      value\n",
            "Albania               132.0\n",
            "Andorra               138.0\n",
            "Antigua & Barbuda     128.0\n",
            "Armenia               179.0\n",
            "Bahamas               176.0\n",
            "...                     ...\n",
            "United Arab Emirates  135.0\n",
            "United Kingdom        126.0\n",
            "USA                   158.0\n",
            "Uzbekistan            101.0\n",
            "Venezuela             100.0\n",
            "\n",
            "[76 rows x 1 columns]\n"
          ]
        }
      ],
      "source": [
        "rst_df = df_2000_T[df_2000_T['value'] > df_2000_T['value'].mean()]\n",
        "print(rst_df)"
      ]
    },
    {
      "cell_type": "markdown",
      "metadata": {
        "id": "9g7ih7XoJ5_v"
      },
      "source": [
        "####222-05 결과 출력하기"
      ]
    },
    {
      "cell_type": "code",
      "execution_count": null,
      "metadata": {
        "colab": {
          "base_uri": "https://localhost:8080/"
        },
        "id": "dV3wofUr2wdZ",
        "outputId": "141b88c3-3f22-47a0-bdfd-bc908fccde9a"
      },
      "outputs": [
        {
          "name": "stdout",
          "output_type": "stream",
          "text": [
            "76\n"
          ]
        }
      ],
      "source": [
        "result = len(rst_df)\n",
        "print(result)"
      ]
    },
    {
      "cell_type": "code",
      "execution_count": null,
      "metadata": {
        "colab": {
          "base_uri": "https://localhost:8080/"
        },
        "id": "PqF9Ki13Ueuc",
        "outputId": "2e720c50-0abe-4352-9437-e49405513a40"
      },
      "outputs": [
        {
          "name": "stdout",
          "output_type": "stream",
          "text": [
            "76\n"
          ]
        }
      ],
      "source": [
        "## 전체 풀이 코드\n",
        "\n",
        "import pandas as pd\n",
        "\n",
        "df = pd.read_csv(\"/content/yemoonsaBigdata/datasets/Part3/302_worlddata.csv\")\n",
        "\n",
        "df_2000 = df[df['year']==2000].drop('year', axis=1)\n",
        "df_2000.index = ['value']\n",
        "df_2000_T = df_2000.T\n",
        "rst_df = df_2000_T[df_2000_T['value'] > df_2000_T['value'].mean()]\n",
        "\n",
        "result = len(rst_df)\n",
        "\n",
        "print(result) # 최종 결과값만 print되도록 해야 합니다."
      ]
    },
    {
      "cell_type": "markdown",
      "metadata": {
        "id": "fA1Gkq1RrHrx"
      },
      "source": [
        "### (3) 세번째 문제"
      ]
    },
    {
      "cell_type": "markdown",
      "metadata": {
        "id": "TA3yptevKJaK"
      },
      "source": [
        "#### 223-01 데이터 불러오기"
      ]
    },
    {
      "cell_type": "code",
      "execution_count": 40,
      "metadata": {
        "colab": {
          "base_uri": "https://localhost:8080/"
        },
        "id": "8ImtqP-I-kwZ",
        "outputId": "c2edd8be-23cd-46e6-9b58-536b33aa77f5"
      },
      "outputs": [
        {
          "name": "stdout",
          "output_type": "stream",
          "text": [
            "   PassengerId  Survived  Pclass  \\\n",
            "0            1         0       3   \n",
            "1            2         1       1   \n",
            "2            3         1       3   \n",
            "3            4         1       1   \n",
            "4            5         0       3   \n",
            "\n",
            "                                                Name     Sex   Age  SibSp  \\\n",
            "0                            Braund, Mr. Owen Harris    male  22.0      1   \n",
            "1  Cumings, Mrs. John Bradley (Florence Briggs Th...  female  38.0      1   \n",
            "2                             Heikkinen, Miss. Laina  female  26.0      0   \n",
            "3       Futrelle, Mrs. Jacques Heath (Lily May Peel)  female  35.0      1   \n",
            "4                           Allen, Mr. William Henry    male  35.0      0   \n",
            "\n",
            "   Parch            Ticket     Fare Cabin Embarked  \n",
            "0      0         A/5 21171   7.2500   NaN        S  \n",
            "1      0          PC 17599  71.2833   C85        C  \n",
            "2      0  STON/O2. 3101282   7.9250   C85        S  \n",
            "3      0            113803  53.1000  C123        S  \n",
            "4      0            373450   8.0500  C123        S  \n"
          ]
        }
      ],
      "source": [
        "import pandas as pd\n",
        "\n",
        "df = pd.read_csv(\"../datasets/Part3/303_titanic.csv\")\n",
        "print(df.head(5))"
      ]
    },
    {
      "cell_type": "code",
      "execution_count": 51,
      "metadata": {},
      "outputs": [
        {
          "name": "stderr",
          "output_type": "stream",
          "text": [
            "/var/folders/yv/g128956j6vx7_4d8rqcw8ljm0000gn/T/ipykernel_20881/1826875832.py:1: UserWarning: Boolean Series key will be reindexed to match DataFrame index.\n",
            "  df.isna()[df.isna().sum() == df.isna().sum().max()]\n"
          ]
        },
        {
          "ename": "IndexingError",
          "evalue": "Unalignable boolean Series provided as indexer (index of the boolean Series and of the indexed object do not match).",
          "output_type": "error",
          "traceback": [
            "\u001b[0;31m---------------------------------------------------------------------------\u001b[0m",
            "\u001b[0;31mIndexingError\u001b[0m                             Traceback (most recent call last)",
            "Cell \u001b[0;32mIn[51], line 1\u001b[0m\n\u001b[0;32m----> 1\u001b[0m df\u001b[39m.\u001b[39;49misna()[df\u001b[39m.\u001b[39;49misna()\u001b[39m.\u001b[39;49msum() \u001b[39m==\u001b[39;49m df\u001b[39m.\u001b[39;49misna()\u001b[39m.\u001b[39;49msum()\u001b[39m.\u001b[39;49mmax()]\n",
            "File \u001b[0;32m/usr/local/lib/python3.11/site-packages/pandas/core/frame.py:3798\u001b[0m, in \u001b[0;36mDataFrame.__getitem__\u001b[0;34m(self, key)\u001b[0m\n\u001b[1;32m   3796\u001b[0m \u001b[39m# Do we have a (boolean) 1d indexer?\u001b[39;00m\n\u001b[1;32m   3797\u001b[0m \u001b[39mif\u001b[39;00m com\u001b[39m.\u001b[39mis_bool_indexer(key):\n\u001b[0;32m-> 3798\u001b[0m     \u001b[39mreturn\u001b[39;00m \u001b[39mself\u001b[39;49m\u001b[39m.\u001b[39;49m_getitem_bool_array(key)\n\u001b[1;32m   3800\u001b[0m \u001b[39m# We are left with two options: a single key, and a collection of keys,\u001b[39;00m\n\u001b[1;32m   3801\u001b[0m \u001b[39m# We interpret tuples as collections only for non-MultiIndex\u001b[39;00m\n\u001b[1;32m   3802\u001b[0m is_single_key \u001b[39m=\u001b[39m \u001b[39misinstance\u001b[39m(key, \u001b[39mtuple\u001b[39m) \u001b[39mor\u001b[39;00m \u001b[39mnot\u001b[39;00m is_list_like(key)\n",
            "File \u001b[0;32m/usr/local/lib/python3.11/site-packages/pandas/core/frame.py:3851\u001b[0m, in \u001b[0;36mDataFrame._getitem_bool_array\u001b[0;34m(self, key)\u001b[0m\n\u001b[1;32m   3845\u001b[0m     \u001b[39mraise\u001b[39;00m \u001b[39mValueError\u001b[39;00m(\n\u001b[1;32m   3846\u001b[0m         \u001b[39mf\u001b[39m\u001b[39m\"\u001b[39m\u001b[39mItem wrong length \u001b[39m\u001b[39m{\u001b[39;00m\u001b[39mlen\u001b[39m(key)\u001b[39m}\u001b[39;00m\u001b[39m instead of \u001b[39m\u001b[39m{\u001b[39;00m\u001b[39mlen\u001b[39m(\u001b[39mself\u001b[39m\u001b[39m.\u001b[39mindex)\u001b[39m}\u001b[39;00m\u001b[39m.\u001b[39m\u001b[39m\"\u001b[39m\n\u001b[1;32m   3847\u001b[0m     )\n\u001b[1;32m   3849\u001b[0m \u001b[39m# check_bool_indexer will throw exception if Series key cannot\u001b[39;00m\n\u001b[1;32m   3850\u001b[0m \u001b[39m# be reindexed to match DataFrame rows\u001b[39;00m\n\u001b[0;32m-> 3851\u001b[0m key \u001b[39m=\u001b[39m check_bool_indexer(\u001b[39mself\u001b[39;49m\u001b[39m.\u001b[39;49mindex, key)\n\u001b[1;32m   3852\u001b[0m indexer \u001b[39m=\u001b[39m key\u001b[39m.\u001b[39mnonzero()[\u001b[39m0\u001b[39m]\n\u001b[1;32m   3853\u001b[0m \u001b[39mreturn\u001b[39;00m \u001b[39mself\u001b[39m\u001b[39m.\u001b[39m_take_with_is_copy(indexer, axis\u001b[39m=\u001b[39m\u001b[39m0\u001b[39m)\n",
            "File \u001b[0;32m/usr/local/lib/python3.11/site-packages/pandas/core/indexing.py:2552\u001b[0m, in \u001b[0;36mcheck_bool_indexer\u001b[0;34m(index, key)\u001b[0m\n\u001b[1;32m   2550\u001b[0m indexer \u001b[39m=\u001b[39m result\u001b[39m.\u001b[39mindex\u001b[39m.\u001b[39mget_indexer_for(index)\n\u001b[1;32m   2551\u001b[0m \u001b[39mif\u001b[39;00m \u001b[39m-\u001b[39m\u001b[39m1\u001b[39m \u001b[39min\u001b[39;00m indexer:\n\u001b[0;32m-> 2552\u001b[0m     \u001b[39mraise\u001b[39;00m IndexingError(\n\u001b[1;32m   2553\u001b[0m         \u001b[39m\"\u001b[39m\u001b[39mUnalignable boolean Series provided as \u001b[39m\u001b[39m\"\u001b[39m\n\u001b[1;32m   2554\u001b[0m         \u001b[39m\"\u001b[39m\u001b[39mindexer (index of the boolean Series and of \u001b[39m\u001b[39m\"\u001b[39m\n\u001b[1;32m   2555\u001b[0m         \u001b[39m\"\u001b[39m\u001b[39mthe indexed object do not match).\u001b[39m\u001b[39m\"\u001b[39m\n\u001b[1;32m   2556\u001b[0m     )\n\u001b[1;32m   2558\u001b[0m result \u001b[39m=\u001b[39m result\u001b[39m.\u001b[39mtake(indexer)\n\u001b[1;32m   2560\u001b[0m \u001b[39m# fall through for boolean\u001b[39;00m\n",
            "\u001b[0;31mIndexingError\u001b[0m: Unalignable boolean Series provided as indexer (index of the boolean Series and of the indexed object do not match)."
          ]
        }
      ],
      "source": []
    },
    {
      "cell_type": "code",
      "execution_count": 49,
      "metadata": {},
      "outputs": [
        {
          "name": "stdout",
          "output_type": "stream",
          "text": [
            "Cabin\n"
          ]
        }
      ],
      "source": [
        "print('Cabin')"
      ]
    },
    {
      "cell_type": "code",
      "execution_count": null,
      "metadata": {},
      "outputs": [],
      "source": [
        "mean = df[df['year'] == ]"
      ]
    },
    {
      "cell_type": "markdown",
      "metadata": {
        "id": "apDKrYrbKpwZ"
      },
      "source": [
        "#### 223-02 결측값 개수 세기"
      ]
    },
    {
      "cell_type": "code",
      "execution_count": null,
      "metadata": {
        "colab": {
          "base_uri": "https://localhost:8080/"
        },
        "id": "nq1yWwyE_AJ0",
        "outputId": "3356f3c3-5e02-4779-c070-ce324d766ccc"
      },
      "outputs": [
        {
          "name": "stdout",
          "output_type": "stream",
          "text": [
            "            var  count\n",
            "0   PassengerId      0\n",
            "1      Survived      0\n",
            "2        Pclass      0\n",
            "3          Name      0\n",
            "4           Sex      0\n",
            "5           Age    177\n",
            "6         SibSp      0\n",
            "7         Parch      0\n",
            "8        Ticket      0\n",
            "9          Fare      0\n",
            "10        Cabin    118\n",
            "11     Embarked      2\n"
          ]
        }
      ],
      "source": [
        "rst_df = df.isnull().sum().reset_index()\n",
        "rst_df.columns = ['var', 'count']\n",
        "print(rst_df)"
      ]
    },
    {
      "cell_type": "markdown",
      "metadata": {
        "id": "SwoV1ZsKLY2n"
      },
      "source": [
        "#### 223-03 결과 출력하기"
      ]
    },
    {
      "cell_type": "code",
      "execution_count": null,
      "metadata": {
        "colab": {
          "base_uri": "https://localhost:8080/"
        },
        "id": "qag9Gur6BRV2",
        "outputId": "dc86988c-1a1a-4866-e36f-bc442b3086e4"
      },
      "outputs": [
        {
          "name": "stdout",
          "output_type": "stream",
          "text": [
            "Age\n"
          ]
        }
      ],
      "source": [
        "result = rst_df.loc[rst_df['count']==rst_df['count'].max(), 'var'].values[0]\n",
        "print(result)"
      ]
    },
    {
      "cell_type": "code",
      "execution_count": null,
      "metadata": {
        "colab": {
          "base_uri": "https://localhost:8080/"
        },
        "id": "lDrGvxIjY2dK",
        "outputId": "8f2fde8f-1503-4037-e923-f1c5b4dd6f04"
      },
      "outputs": [
        {
          "name": "stdout",
          "output_type": "stream",
          "text": [
            "5    Age\n",
            "Name: var, dtype: object\n"
          ]
        }
      ],
      "source": [
        "## 참고 - 뒤에 values[0]이 없을 경우 \n",
        "result = rst_df.loc[rst_df['count']==rst_df['count'].max(), 'var']\n",
        "print(result) # 결과 값이 Series형태로 나옴"
      ]
    },
    {
      "cell_type": "code",
      "execution_count": null,
      "metadata": {
        "colab": {
          "base_uri": "https://localhost:8080/"
        },
        "id": "UnKFWX2xZhKL",
        "outputId": "5b3451a7-0d66-4c28-9e5e-e97dfa54db79"
      },
      "outputs": [
        {
          "name": "stdout",
          "output_type": "stream",
          "text": [
            "Age\n"
          ]
        }
      ],
      "source": [
        "## 전체 풀이 코드\n",
        "\n",
        "import pandas as pd\n",
        "\n",
        "df = pd.read_csv(\"/content/yemoonsaBigdata/datasets/Part3/303_titanic.csv\")\n",
        "\n",
        "rst_df = df.isnull().sum().reset_index()\n",
        "rst_df.columns = ['var', 'count']\n",
        "\n",
        "result = rst_df.loc[rst_df['count']==rst_df['count'].max(), 'var'].values[0]\n",
        "\n",
        "print(result) # 최종 결과값만 print되도록 해야 합니다."
      ]
    },
    {
      "cell_type": "markdown",
      "metadata": {
        "id": "ByCjNiHHq3_Y"
      },
      "source": [
        "## 3. 작업형 제2유형"
      ]
    },
    {
      "cell_type": "markdown",
      "metadata": {
        "id": "uXinBWrlrI-V"
      },
      "source": [
        "### (1) 사전 준비"
      ]
    },
    {
      "cell_type": "markdown",
      "metadata": {
        "id": "m0DcJ3p_ML-R"
      },
      "source": [
        "#### 231-01. 데이터 불러오기 "
      ]
    },
    {
      "cell_type": "code",
      "execution_count": 57,
      "metadata": {
        "id": "-7leAN-0qSWW"
      },
      "outputs": [],
      "source": [
        "# 출력을 원하실 경우 print() 함수 활용\n",
        "# 예시) print(df.head())\n",
        "\n",
        "# getcwd(), chdir() 등 작업 폴더 설정 불필요\n",
        "# 파일 경로 상 내부 드라이브 경로(C: 등) 접근 불가\n",
        "\n",
        "# 데이터 파일 읽기 예제\n",
        "import pandas as pd\n",
        "import numpy as np\n",
        "from sklearn.ensemble import RandomForestRegressor\n",
        "from sklearn.preprocessing import StandardScaler, LabelEncoder\n",
        "\n",
        "X_test = pd.read_csv(\"../datasets/Part3/304_x_test.csv\")\n",
        "X_train = pd.read_csv(\"../datasets/Part3/304_x_train.csv\")\n",
        "y_train = pd.read_csv(\"../datasets/Part3/304_y_train.csv\")\n",
        "\n",
        "COL_NUM = ['Age', 'AnnualIncome', 'FamilyMembers']\n",
        "COL_CAT = ['Employment Type', 'GraduateOrNot', 'ChronicDiseases', 'FrequentFlyer', 'EverTravelledAbroad']\n",
        "\n",
        "X = pd.concat([X_train, X_test])\n",
        "\n",
        "for cat in COL_CAT:\n",
        "    le = LabelEncoder()\n",
        "    le.fit(X[cat])\n",
        "    X_train[cat] = le.transform(X_train[cat])\n",
        "    X_test[cat] = le.transform(X_test[cat])\n",
        "\n",
        "scaler = StandardScaler()\n",
        "scaler.fit(X[COL_NUM])\n",
        "X_train[COL_NUM] = scaler.transform(X_train[COL_NUM])\n",
        "X_test[COL_NUM] = scaler.transform(X_test[COL_NUM])\n",
        "\n",
        "rf = RandomForestRegressor()\n",
        "rf.fit(X_train, y_train['TravelInsurance'])\n",
        "pred = rf.predict(X_test)\n",
        "\n",
        "# 사용자 코딩\n",
        "\n",
        "# 답안 제출 참고\n",
        "# 아래 코드 예측변수와 수험번호를 개인별로 변경하여 활용\n",
        "pd.DataFrame({'index': X_test.index, 'y_pred': pred}).to_csv('003000000.csv', index=False)"
      ]
    },
    {
      "cell_type": "code",
      "execution_count": null,
      "metadata": {
        "colab": {
          "base_uri": "https://localhost:8080/"
        },
        "id": "pg5zUSVWaf72",
        "outputId": "e941ec13-69a5-4669-e15c-fed4a7feb179"
      },
      "outputs": [
        {
          "name": "stdout",
          "output_type": "stream",
          "text": [
            "     ID  Age               Employment Type GraduateOrNot  AnnualIncome  \\\n",
            "0  1704   26  Private Sector/Self Employed           Yes       1400000   \n",
            "1   491   28  Private Sector/Self Employed           Yes       1100000   \n",
            "2   414   33  Private Sector/Self Employed           Yes       1400000   \n",
            "3   120   28  Private Sector/Self Employed           Yes        800000   \n",
            "4  1268   33             Government Sector           Yes       1000000   \n",
            "\n",
            "   FamilyMembers  ChronicDiseases FrequentFlyer EverTravelledAbroad  \n",
            "0              3                1            No                 Yes  \n",
            "1              4                1            No                  No  \n",
            "2              4                0            No                 Yes  \n",
            "3              3                1            No                  No  \n",
            "4              5                0            No                 Yes  \n"
          ]
        }
      ],
      "source": [
        "print(X_train.head())"
      ]
    },
    {
      "cell_type": "code",
      "execution_count": null,
      "metadata": {
        "colab": {
          "base_uri": "https://localhost:8080/"
        },
        "id": "cBtHxh8hagmf",
        "outputId": "6b6f2d59-b4de-489c-ebfe-4f0b1860701a"
      },
      "outputs": [
        {
          "name": "stdout",
          "output_type": "stream",
          "text": [
            "     ID  TravelInsurance\n",
            "0  1704                0\n",
            "1   491                1\n",
            "2   414                1\n",
            "3   120                0\n",
            "4  1268                1\n"
          ]
        }
      ],
      "source": [
        "print(y_train.head())"
      ]
    },
    {
      "cell_type": "code",
      "execution_count": null,
      "metadata": {
        "colab": {
          "base_uri": "https://localhost:8080/"
        },
        "id": "R0EDGI-faiTL",
        "outputId": "0f9b6d88-8bd8-4ac0-a7e0-3c4805d4ee36"
      },
      "outputs": [
        {
          "name": "stdout",
          "output_type": "stream",
          "text": [
            "     ID  Age               Employment Type GraduateOrNot  AnnualIncome  \\\n",
            "0  1569   27             Government Sector           Yes        500000   \n",
            "1  1344   25  Private Sector/Self Employed           Yes       1700000   \n",
            "2  1429   32             Government Sector           Yes        650000   \n",
            "3   896   33             Government Sector           Yes        600000   \n",
            "4   101   33  Private Sector/Self Employed           Yes       1500000   \n",
            "\n",
            "   FamilyMembers  ChronicDiseases FrequentFlyer EverTravelledAbroad  \n",
            "0              5                0            No                  No  \n",
            "1              3                0           Yes                  No  \n",
            "2              3                0            No                  No  \n",
            "3              4                0            No                  No  \n",
            "4              3                1           Yes                 Yes  \n"
          ]
        }
      ],
      "source": [
        "print(X_test.head())"
      ]
    },
    {
      "cell_type": "markdown",
      "metadata": {
        "id": "PUFQrNhZapZC"
      },
      "source": [
        "### (2) 데이터 전처리"
      ]
    },
    {
      "cell_type": "markdown",
      "metadata": {
        "id": "OYDxB1cGNH01"
      },
      "source": [
        "#### 232-01. 데이터 확인하기"
      ]
    },
    {
      "cell_type": "code",
      "execution_count": null,
      "metadata": {
        "colab": {
          "base_uri": "https://localhost:8080/"
        },
        "id": "9uYnCSqgCbEP",
        "outputId": "72d1e7bb-ed16-4674-d7e7-a712db94b84d"
      },
      "outputs": [
        {
          "name": "stdout",
          "output_type": "stream",
          "text": [
            "<class 'pandas.core.frame.DataFrame'>\n",
            "RangeIndex: 1490 entries, 0 to 1489\n",
            "Data columns (total 9 columns):\n",
            " #   Column               Non-Null Count  Dtype \n",
            "---  ------               --------------  ----- \n",
            " 0   ID                   1490 non-null   int64 \n",
            " 1   Age                  1490 non-null   int64 \n",
            " 2   Employment Type      1490 non-null   object\n",
            " 3   GraduateOrNot        1490 non-null   object\n",
            " 4   AnnualIncome         1490 non-null   int64 \n",
            " 5   FamilyMembers        1490 non-null   int64 \n",
            " 6   ChronicDiseases      1490 non-null   int64 \n",
            " 7   FrequentFlyer        1490 non-null   object\n",
            " 8   EverTravelledAbroad  1490 non-null   object\n",
            "dtypes: int64(5), object(4)\n",
            "memory usage: 104.9+ KB\n",
            "None\n"
          ]
        }
      ],
      "source": [
        "print(X_train.info())"
      ]
    },
    {
      "cell_type": "code",
      "execution_count": null,
      "metadata": {
        "colab": {
          "base_uri": "https://localhost:8080/"
        },
        "id": "ff7EsFXOax6I",
        "outputId": "e45fe705-6d56-47cd-add0-202d69d95778"
      },
      "outputs": [
        {
          "name": "stdout",
          "output_type": "stream",
          "text": [
            "<class 'pandas.core.frame.DataFrame'>\n",
            "RangeIndex: 1490 entries, 0 to 1489\n",
            "Data columns (total 2 columns):\n",
            " #   Column           Non-Null Count  Dtype\n",
            "---  ------           --------------  -----\n",
            " 0   ID               1490 non-null   int64\n",
            " 1   TravelInsurance  1490 non-null   int64\n",
            "dtypes: int64(2)\n",
            "memory usage: 23.4 KB\n",
            "None\n"
          ]
        }
      ],
      "source": [
        "print(y_train.info())"
      ]
    },
    {
      "cell_type": "code",
      "execution_count": null,
      "metadata": {
        "colab": {
          "base_uri": "https://localhost:8080/"
        },
        "id": "IbSBAB_pazXU",
        "outputId": "e14d303c-7794-416c-8fac-02fb9adcca93"
      },
      "outputs": [
        {
          "name": "stdout",
          "output_type": "stream",
          "text": [
            "<class 'pandas.core.frame.DataFrame'>\n",
            "RangeIndex: 497 entries, 0 to 496\n",
            "Data columns (total 9 columns):\n",
            " #   Column               Non-Null Count  Dtype \n",
            "---  ------               --------------  ----- \n",
            " 0   ID                   497 non-null    int64 \n",
            " 1   Age                  497 non-null    int64 \n",
            " 2   Employment Type      497 non-null    object\n",
            " 3   GraduateOrNot        497 non-null    object\n",
            " 4   AnnualIncome         497 non-null    int64 \n",
            " 5   FamilyMembers        497 non-null    int64 \n",
            " 6   ChronicDiseases      497 non-null    int64 \n",
            " 7   FrequentFlyer        497 non-null    object\n",
            " 8   EverTravelledAbroad  497 non-null    object\n",
            "dtypes: int64(5), object(4)\n",
            "memory usage: 35.1+ KB\n",
            "None\n"
          ]
        }
      ],
      "source": [
        "print(X_test.info())"
      ]
    },
    {
      "cell_type": "markdown",
      "metadata": {
        "id": "O5s6Pzx3NZPP"
      },
      "source": [
        "#### 232-02. 변수별 결측치 수 확인"
      ]
    },
    {
      "cell_type": "code",
      "execution_count": null,
      "metadata": {
        "colab": {
          "base_uri": "https://localhost:8080/"
        },
        "id": "vQVcZJ-29XI-",
        "outputId": "e89d7306-51d2-4a8f-abaa-80acfc5445c6"
      },
      "outputs": [
        {
          "data": {
            "text/plain": [
              "ID                     0\n",
              "Age                    0\n",
              "Employment Type        0\n",
              "GraduateOrNot          0\n",
              "AnnualIncome           0\n",
              "FamilyMembers          0\n",
              "ChronicDiseases        0\n",
              "FrequentFlyer          0\n",
              "EverTravelledAbroad    0\n",
              "dtype: int64"
            ]
          },
          "execution_count": 26,
          "metadata": {},
          "output_type": "execute_result"
        }
      ],
      "source": [
        "X_train.isnull().sum()"
      ]
    },
    {
      "cell_type": "code",
      "execution_count": null,
      "metadata": {
        "colab": {
          "base_uri": "https://localhost:8080/"
        },
        "id": "yKQsNQmia-sV",
        "outputId": "650a8d03-2c23-44e5-c952-cbb31dc2ed6f"
      },
      "outputs": [
        {
          "data": {
            "text/plain": [
              "ID                     0\n",
              "Age                    0\n",
              "Employment Type        0\n",
              "GraduateOrNot          0\n",
              "AnnualIncome           0\n",
              "FamilyMembers          0\n",
              "ChronicDiseases        0\n",
              "FrequentFlyer          0\n",
              "EverTravelledAbroad    0\n",
              "dtype: int64"
            ]
          },
          "execution_count": 27,
          "metadata": {},
          "output_type": "execute_result"
        }
      ],
      "source": [
        "X_test.isnull().sum()"
      ]
    },
    {
      "cell_type": "code",
      "execution_count": null,
      "metadata": {
        "colab": {
          "base_uri": "https://localhost:8080/"
        },
        "id": "xkSa8evSa-C6",
        "outputId": "f307cac3-463b-4c90-f87c-7527fa7d2c89"
      },
      "outputs": [
        {
          "data": {
            "text/plain": [
              "ID                 0\n",
              "TravelInsurance    0\n",
              "dtype: int64"
            ]
          },
          "execution_count": 28,
          "metadata": {},
          "output_type": "execute_result"
        }
      ],
      "source": [
        "y_train.isnull().sum()"
      ]
    },
    {
      "cell_type": "markdown",
      "metadata": {
        "id": "twtjHaxaOQ1L"
      },
      "source": [
        "#### 232-03. 변수 구분"
      ]
    },
    {
      "cell_type": "code",
      "execution_count": null,
      "metadata": {
        "id": "yoF77ZSvIpkj"
      },
      "outputs": [],
      "source": [
        "# ID: 불필요한 변수\n",
        "# Age, AnnualIncome, FamilyMembers, ChronicDiseases: 수치형 변수\n",
        "# Employment Type, GraduateOrNot, FrequentFlyer, EverTravelledAbroad: 범주형 변수\n",
        "# TravelInsurance: 종속 변수\n",
        "\n",
        "COL_DEL = ['ID']\n",
        "COL_NUM = ['Age', 'AnnualIncome', 'FamilyMembers', 'ChronicDiseases']\n",
        "COL_CAT = ['Employment Type', 'GraduateOrNot', 'FrequentFlyer', 'EverTravelledAbroad']\n",
        "COL_Y = ['TravelInsurance']"
      ]
    },
    {
      "cell_type": "markdown",
      "metadata": {
        "id": "Bpgn4ywnbv7b"
      },
      "source": [
        "### (3) 데이터 모형 구축"
      ]
    },
    {
      "cell_type": "markdown",
      "metadata": {
        "id": "jGrnip8AOnz3"
      },
      "source": [
        "#### 233-01. 데이터 분할"
      ]
    },
    {
      "cell_type": "code",
      "execution_count": null,
      "metadata": {
        "id": "aPLno6-2KfCh"
      },
      "outputs": [],
      "source": [
        "from sklearn.model_selection import train_test_split\n",
        "X_tr, X_val, y_tr, y_val = train_test_split(X_train[COL_NUM+COL_CAT]\n",
        "                                            , y_train[COL_Y].values.ravel()\n",
        "                                            , test_size=0.3\n",
        "                                            , stratify=y_train[COL_Y].values.ravel())"
      ]
    },
    {
      "cell_type": "code",
      "execution_count": null,
      "metadata": {
        "colab": {
          "base_uri": "https://localhost:8080/"
        },
        "id": "WbcC9KJGcSyG",
        "outputId": "5a9d38e3-aba0-4144-8754-419a65505402"
      },
      "outputs": [
        {
          "name": "stdout",
          "output_type": "stream",
          "text": [
            "      Age  AnnualIncome  FamilyMembers  ChronicDiseases  \\\n",
            "545    34       1050000              7                1   \n",
            "484    26        600000              6                0   \n",
            "1162   29        900000              6                0   \n",
            "647    28        650000              4                0   \n",
            "45     33        800000              3                0   \n",
            "\n",
            "                   Employment Type GraduateOrNot FrequentFlyer  \\\n",
            "545   Private Sector/Self Employed           Yes            No   \n",
            "484   Private Sector/Self Employed           Yes           Yes   \n",
            "1162  Private Sector/Self Employed           Yes           Yes   \n",
            "647   Private Sector/Self Employed           Yes            No   \n",
            "45               Government Sector           Yes            No   \n",
            "\n",
            "     EverTravelledAbroad  \n",
            "545                   No  \n",
            "484                   No  \n",
            "1162                  No  \n",
            "647                   No  \n",
            "45                    No  \n"
          ]
        }
      ],
      "source": [
        "print(X_tr.head())"
      ]
    },
    {
      "cell_type": "code",
      "execution_count": null,
      "metadata": {
        "colab": {
          "base_uri": "https://localhost:8080/"
        },
        "id": "yYldkwnvcTD5",
        "outputId": "38f7f128-5cc9-4efc-dc27-7d74044658e3"
      },
      "outputs": [
        {
          "name": "stdout",
          "output_type": "stream",
          "text": [
            "[1 0 1 ... 0 1 1]\n"
          ]
        }
      ],
      "source": [
        "print(y_tr)"
      ]
    },
    {
      "cell_type": "markdown",
      "metadata": {
        "id": "-imp6o_UPnzf"
      },
      "source": [
        "#### 233-02. 수치형 변수 - 데이터 스케일링 "
      ]
    },
    {
      "cell_type": "code",
      "execution_count": null,
      "metadata": {
        "id": "DMc6xRGHBuoN"
      },
      "outputs": [],
      "source": [
        "from sklearn.preprocessing import StandardScaler\n",
        "\n",
        "scaler = StandardScaler()\n",
        "scaler.fit(X_tr[COL_NUM])\n",
        "\n",
        "X_tr[COL_NUM]   = scaler.transform(X_tr[COL_NUM])\n",
        "X_val[COL_NUM]  = scaler.transform(X_val[COL_NUM])\n",
        "X_test[COL_NUM] = scaler.transform(X_test[COL_NUM])"
      ]
    },
    {
      "cell_type": "code",
      "execution_count": null,
      "metadata": {
        "colab": {
          "base_uri": "https://localhost:8080/"
        },
        "id": "94b30fp9cniK",
        "outputId": "972c7d97-6ba2-4817-8fdd-c8528963151b"
      },
      "outputs": [
        {
          "name": "stdout",
          "output_type": "stream",
          "text": [
            "           Age  AnnualIncome  FamilyMembers  ChronicDiseases\n",
            "545   1.498696      0.302894       1.418144         1.551933\n",
            "484  -1.243053     -0.902390       0.803124        -0.644358\n",
            "1162 -0.214897     -0.098867       0.803124        -0.644358\n",
            "647  -0.557616     -0.768469      -0.426917        -0.644358\n",
            "45    1.155977     -0.366708      -1.041938        -0.644358\n"
          ]
        }
      ],
      "source": [
        "print(X_tr[COL_NUM].head())"
      ]
    },
    {
      "cell_type": "markdown",
      "metadata": {
        "id": "xjp_0Or1P0D6"
      },
      "source": [
        "#### 233-03. 범주형 변수 - 데이터 인코딩"
      ]
    },
    {
      "cell_type": "code",
      "execution_count": null,
      "metadata": {
        "colab": {
          "base_uri": "https://localhost:8080/"
        },
        "id": "SCKNST8bBykw",
        "outputId": "a1e874fe-b213-4046-8dff-6606736879de"
      },
      "outputs": [
        {
          "name": "stdout",
          "output_type": "stream",
          "text": [
            "Employment Type\n",
            "['Government Sector' 'Private Sector/Self Employed']\n",
            "\n",
            "\n",
            "GraduateOrNot\n",
            "['No' 'Yes']\n",
            "\n",
            "\n",
            "FrequentFlyer\n",
            "['No' 'Yes']\n",
            "\n",
            "\n",
            "EverTravelledAbroad\n",
            "['No' 'Yes']\n",
            "\n",
            "\n"
          ]
        }
      ],
      "source": [
        "from sklearn.preprocessing import LabelEncoder\n",
        "\n",
        "X = pd.concat([X_train[COL_CAT], X_test[COL_CAT]])\n",
        "\n",
        "for col in COL_CAT:\n",
        "  le = LabelEncoder()\n",
        "  le.fit(X[col])\n",
        "  X_tr[col] = le.transform(X_tr[col])\n",
        "  X_val[col] = le.transform(X_val[col])\n",
        "  X_test[col] = le.transform(X_test[col])\n",
        "\n",
        "  # 각 변수의 클래스 확인\n",
        "  print(col)\n",
        "  print(le.classes_)\n",
        "  print('\\n')"
      ]
    },
    {
      "cell_type": "code",
      "execution_count": null,
      "metadata": {
        "colab": {
          "base_uri": "https://localhost:8080/"
        },
        "id": "xdOKDV6LczGg",
        "outputId": "b1821ca9-ccba-4cae-8f67-f9b4aa3c9893"
      },
      "outputs": [
        {
          "name": "stdout",
          "output_type": "stream",
          "text": [
            "      Employment Type  GraduateOrNot  FrequentFlyer  EverTravelledAbroad\n",
            "545                 1              1              0                    0\n",
            "484                 1              1              1                    0\n",
            "1162                1              1              1                    0\n",
            "647                 1              1              0                    0\n",
            "45                  0              1              0                    0\n"
          ]
        }
      ],
      "source": [
        "print(X_tr[COL_CAT].head())"
      ]
    },
    {
      "cell_type": "markdown",
      "metadata": {
        "id": "q-OqXRn8QZO5"
      },
      "source": [
        "#### 333-04. 모형 학습"
      ]
    },
    {
      "cell_type": "code",
      "execution_count": null,
      "metadata": {
        "colab": {
          "base_uri": "https://localhost:8080/"
        },
        "id": "wAaYKoUuCEJm",
        "outputId": "c8950c17-7f77-495b-f3f4-17214ee5b5c1"
      },
      "outputs": [
        {
          "data": {
            "text/plain": [
              "XGBClassifier(random_state=123)"
            ]
          },
          "execution_count": 37,
          "metadata": {},
          "output_type": "execute_result"
        }
      ],
      "source": [
        "## 1) 랜덤 포레스트\n",
        "from sklearn.ensemble import RandomForestClassifier\n",
        "modelRF = RandomForestClassifier(random_state=123)\n",
        "modelRF.fit(X_tr, y_tr)\n",
        "\n",
        "## 2) XGBoost\n",
        "from xgboost import XGBClassifier\n",
        "modelXGB = XGBClassifier(random_state=123)\n",
        "modelXGB.fit(X_tr, y_tr)"
      ]
    },
    {
      "cell_type": "markdown",
      "metadata": {
        "id": "Y7t6uZxLRPkn"
      },
      "source": [
        "### (4) 데이터 모형 평가"
      ]
    },
    {
      "cell_type": "markdown",
      "metadata": {
        "id": "4Y-fxymCdE0B"
      },
      "source": [
        "#### 234-01. 검증 데이터로 예측값 생성"
      ]
    },
    {
      "cell_type": "code",
      "execution_count": null,
      "metadata": {
        "id": "kIeTjvEvCLJ_"
      },
      "outputs": [],
      "source": [
        "y_val_predRF = modelRF.predict_proba(X_val)[:, 1]\n",
        "y_val_predXGB = modelXGB.predict_proba(X_val)[:, 1]"
      ]
    },
    {
      "cell_type": "markdown",
      "metadata": {
        "id": "SIpRj3xRSmNc"
      },
      "source": [
        "#### 234-02. 평가지표 구하기"
      ]
    },
    {
      "cell_type": "code",
      "execution_count": null,
      "metadata": {
        "colab": {
          "base_uri": "https://localhost:8080/"
        },
        "id": "F7UXEthASoU_",
        "outputId": "13364bcb-3cfa-465d-c99d-e359af3d13be"
      },
      "outputs": [
        {
          "name": "stdout",
          "output_type": "stream",
          "text": [
            "Random Forest: \t 0.807050032488629\n",
            "XGBoost: \t 0.8169482347844921\n"
          ]
        }
      ],
      "source": [
        "## 답안 채점 기준인 roc_auc 사용\n",
        "from sklearn.metrics import roc_auc_score\n",
        "\n",
        "scoreRF = roc_auc_score(y_val, y_val_predRF)\n",
        "scoreXGB = roc_auc_score(y_val, y_val_predXGB)\n",
        "\n",
        "print('Random Forest: \\t', scoreRF)\n",
        "print('XGBoost: \\t', scoreXGB)"
      ]
    },
    {
      "cell_type": "markdown",
      "metadata": {
        "id": "NBRqE8YWTxaM"
      },
      "source": [
        "#### 234-03. 학습, 검증 성능 확인 함수"
      ]
    },
    {
      "cell_type": "code",
      "execution_count": null,
      "metadata": {
        "id": "CEzyZX0lIrrP"
      },
      "outputs": [],
      "source": [
        "def get_scores(model, X_tr, X_val, y_tr, y_val):\n",
        "\n",
        "  y_tr_pred = model.predict_proba(X_tr)[:, 1]\n",
        "  y_val_pred = model.predict_proba(X_val)[:, 1]\n",
        "  tr_score = roc_auc_score(y_tr, y_tr_pred)\n",
        "  val_score = roc_auc_score(y_val, y_val_pred)\n",
        "\n",
        "  return f'train: {round(tr_score, 4)}, valid: {round(val_score, 4)}'"
      ]
    },
    {
      "cell_type": "code",
      "execution_count": null,
      "metadata": {
        "colab": {
          "base_uri": "https://localhost:8080/"
        },
        "id": "3dSkJdRMdkaP",
        "outputId": "8b0a6a7e-a9c9-456e-c4a7-c9d61843f7d1"
      },
      "outputs": [
        {
          "name": "stdout",
          "output_type": "stream",
          "text": [
            "Random Forest \t- train: 0.9911, valid: 0.8071\n",
            "XGBoost \t- train: 0.8822, valid: 0.8169\n"
          ]
        }
      ],
      "source": [
        "print('Random Forest \\t-', get_scores(modelRF, X_tr, X_val, y_tr, y_val))\n",
        "print('XGBoost \\t-', get_scores(modelXGB, X_tr, X_val, y_tr, y_val))"
      ]
    },
    {
      "cell_type": "markdown",
      "metadata": {
        "id": "_D-HQaHmUrom"
      },
      "source": [
        "#### 234-04. 하이퍼 파라미터 튜닝"
      ]
    },
    {
      "cell_type": "code",
      "execution_count": null,
      "metadata": {
        "colab": {
          "base_uri": "https://localhost:8080/"
        },
        "id": "bDPjYhTDI0WN",
        "outputId": "60da513f-cb22-458e-d243-7806a1834b2f"
      },
      "outputs": [
        {
          "name": "stdout",
          "output_type": "stream",
          "text": [
            "XGBoost2 \t- train: 0.8691, valid: 0.808\n",
            "XGBoost3 \t- train: 0.9123, valid: 0.8316\n",
            "XGBoost4 \t- train: 0.8702, valid: 0.808\n",
            "XGBoost5 \t- train: 0.9056, valid: 0.8253\n"
          ]
        }
      ],
      "source": [
        "modelXGB2 = XGBClassifier(n_estimators=50, max_depth=3, min_child_weight=1, random_state=123)\n",
        "modelXGB2.fit(X_tr, y_tr)\n",
        "\n",
        "modelXGB3 = XGBClassifier(n_estimators=50, max_depth=5, min_child_weight=1, random_state=123)\n",
        "modelXGB3.fit(X_tr, y_tr)\n",
        "\n",
        "modelXGB4 = XGBClassifier(n_estimators=50, max_depth=3, min_child_weight=2, random_state=123)\n",
        "modelXGB4.fit(X_tr, y_tr)\n",
        "\n",
        "modelXGB5 = XGBClassifier(n_estimators=50, max_depth=5, min_child_weight=2, random_state=123)\n",
        "modelXGB5.fit(X_tr, y_tr)\n",
        "\n",
        "print('XGBoost2 \\t-', get_scores(modelXGB2, X_tr, X_val, y_tr, y_val))\n",
        "print('XGBoost3 \\t-', get_scores(modelXGB3, X_tr, X_val, y_tr, y_val))\n",
        "print('XGBoost4 \\t-', get_scores(modelXGB4, X_tr, X_val, y_tr, y_val))\n",
        "print('XGBoost5 \\t-', get_scores(modelXGB5, X_tr, X_val, y_tr, y_val))"
      ]
    },
    {
      "cell_type": "markdown",
      "metadata": {
        "id": "5cFshcq6d8KW"
      },
      "source": [
        "#### 234-05. 최종 결과값 생성"
      ]
    },
    {
      "cell_type": "code",
      "execution_count": null,
      "metadata": {
        "colab": {
          "base_uri": "https://localhost:8080/"
        },
        "id": "7d0H6Nfwd19T",
        "outputId": "aac68e5e-a178-4f55-8140-716c571a63ee"
      },
      "outputs": [
        {
          "name": "stdout",
          "output_type": "stream",
          "text": [
            "     ID      pred\n",
            "0  1569  0.155600\n",
            "1  1344  0.909667\n",
            "2  1429  0.222075\n",
            "3   896  0.293852\n",
            "4   101  0.900748\n"
          ]
        }
      ],
      "source": [
        "pred = modelXGB2.predict_proba(X_test[COL_NUM+COL_CAT])[:, 1]\n",
        "result = pd.DataFrame({'ID': X_test.ID, 'pred': pred})\n",
        "print(result.head())"
      ]
    },
    {
      "cell_type": "code",
      "execution_count": null,
      "metadata": {
        "id": "cdmEsUS2fUcM"
      },
      "outputs": [],
      "source": [
        "## 최종 결과 확인 후 to_csv 함수로 제출\n",
        "# result.to_csv('003000000.csv', index=False)"
      ]
    }
  ],
  "metadata": {
    "colab": {
      "include_colab_link": true,
      "provenance": []
    },
    "kernelspec": {
      "display_name": "Python 3",
      "name": "python3"
    },
    "language_info": {
      "codemirror_mode": {
        "name": "ipython",
        "version": 3
      },
      "file_extension": ".py",
      "mimetype": "text/x-python",
      "name": "python",
      "nbconvert_exporter": "python",
      "pygments_lexer": "ipython3",
      "version": "3.11.4"
    }
  },
  "nbformat": 4,
  "nbformat_minor": 0
}
