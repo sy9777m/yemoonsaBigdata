{
  "cells": [
    {
      "attachments": {},
      "cell_type": "markdown",
      "metadata": {
        "colab_type": "text",
        "id": "view-in-github"
      },
      "source": [
        "<a href=\"https://colab.research.google.com/github/AnalyticsKnight/yemoonsaBigdata/blob/dev/src/P3_C4_PythonExam.ipynb\" target=\"_parent\"><img src=\"https://colab.research.google.com/assets/colab-badge.svg\" alt=\"Open In Colab\"/></a>"
      ]
    },
    {
      "attachments": {},
      "cell_type": "markdown",
      "metadata": {
        "id": "tQQnixxjl1xK"
      },
      "source": [
        "# **Chapter 4. 빅데이터분석기사 5회**"
      ]
    },
    {
      "attachments": {},
      "cell_type": "markdown",
      "metadata": {
        "id": "uHLz-03SmHUx"
      },
      "source": [
        "## 1. 필답형"
      ]
    },
    {
      "attachments": {},
      "cell_type": "markdown",
      "metadata": {
        "id": "whyEfgyKmzmV"
      },
      "source": [
        "## 2. 작업형 제1유형"
      ]
    },
    {
      "attachments": {},
      "cell_type": "markdown",
      "metadata": {
        "id": "fh2Smsm2m4Wv"
      },
      "source": [
        "#### 000 소스 및 데이터 동기화"
      ]
    },
    {
      "cell_type": "code",
      "execution_count": null,
      "metadata": {
        "colab": {
          "base_uri": "https://localhost:8080/"
        },
        "id": "uFYJ-saAlT6K",
        "outputId": "bd083662-0c03-482a-ca2c-99e23f4bcfcb"
      },
      "outputs": [
        {
          "name": "stdout",
          "output_type": "stream",
          "text": [
            "Cloning into 'yemoonsaBigdata'...\n",
            "remote: Enumerating objects: 535, done.\u001b[K\n",
            "remote: Counting objects: 100% (172/172), done.\u001b[K\n",
            "remote: Compressing objects: 100% (128/128), done.\u001b[K\n",
            "remote: Total 535 (delta 90), reused 49 (delta 44), pack-reused 363\u001b[K\n",
            "Receiving objects: 100% (535/535), 10.63 MiB | 8.40 MiB/s, done.\n",
            "Resolving deltas: 100% (275/275), done.\n"
          ]
        }
      ],
      "source": [
        "!git clone https://github.com/AnalyticsKnight/yemoonsaBigdata/"
      ]
    },
    {
      "attachments": {},
      "cell_type": "markdown",
      "metadata": {
        "id": "LiiIBFPLm91S"
      },
      "source": [
        "### (1) 첫 번째 문제"
      ]
    },
    {
      "attachments": {},
      "cell_type": "markdown",
      "metadata": {
        "id": "csM2t1GAnZ69"
      },
      "source": [
        "#### 421-01 데이터 불러오기"
      ]
    },
    {
      "cell_type": "code",
      "execution_count": 3,
      "metadata": {
        "colab": {
          "base_uri": "https://localhost:8080/"
        },
        "id": "0WiU3rfJnIAs",
        "outputId": "86e2ea32-21e3-433f-b6e2-b001228a11d5"
      },
      "outputs": [
        {
          "name": "stdout",
          "output_type": "stream",
          "text": [
            "   시도명 시군구명       종류 처리방식      용도 사용대상  1L가격  1.5L가격  2L가격  2.5L가격  ...  5L가격  \\\n",
            "0  강원도  강릉시     규격봉투  매립용   생활쓰레기   기타     0       0     0       0  ...   130   \n",
            "1  강원도  강릉시  재사용규격봉투  매립용   생활쓰레기   기타     0       0     0       0  ...     0   \n",
            "2  강원도  고성군     규격봉투  소각용   생활쓰레기  가정용     0       0     0       0  ...   140   \n",
            "3  강원도  고성군     규격봉투  소각용  음식물쓰레기  가정용     0       0    60       0  ...   120   \n",
            "4  강원도  고성군   특수규격마대  매립용   생활쓰레기  가정용     0       0     0       0  ...     0   \n",
            "\n",
            "   10L가격  20L가격  30L가격  50L가격  60L가격  75L가격  100L가격  120L가격  125L가격  \n",
            "0    270    520      0   1250      0   1880       0       0       0  \n",
            "1    270    520      0      0      0      0       0       0       0  \n",
            "2    260    500      0   1220      0      0    2410       0       0  \n",
            "3      0      0      0      0      0      0       0       0       0  \n",
            "4      0      0      0   1540      0      0       0       0       0  \n",
            "\n",
            "[5 rows x 21 columns]\n"
          ]
        }
      ],
      "source": [
        "import pandas as pd\n",
        "\n",
        "df = pd.read_csv('../datasets/Part3/501_trash_bag.csv', encoding='cp949')\n",
        "print(df.head())"
      ]
    },
    {
      "cell_type": "code",
      "execution_count": 6,
      "metadata": {},
      "outputs": [
        {
          "data": {
            "text/plain": [
              "119"
            ]
          },
          "execution_count": 6,
          "metadata": {},
          "output_type": "execute_result"
        }
      ],
      "source": [
        "int(df[(df['용도'] == '음식물쓰레기') & (df['사용대상'] == '가정용') & (df['2L가격'] != 0)]['2L가격'].mean())"
      ]
    },
    {
      "attachments": {},
      "cell_type": "markdown",
      "metadata": {
        "id": "n0P7lFDmnxuE"
      },
      "source": [
        "#### 421-02 용도, 사용대상 기준으로 데이터 추출하기"
      ]
    },
    {
      "cell_type": "code",
      "execution_count": null,
      "metadata": {
        "colab": {
          "base_uri": "https://localhost:8080/"
        },
        "id": "nh15m0G4npTb",
        "outputId": "f3092dd0-befb-49a6-c290-d1fc9a283f9c"
      },
      "outputs": [
        {
          "name": "stdout",
          "output_type": "stream",
          "text": [
            "['생활쓰레기' '음식물쓰레기']\n"
          ]
        }
      ],
      "source": [
        "# 용도 컬럼 값들 확인\n",
        "print(df['용도'].unique())"
      ]
    },
    {
      "cell_type": "code",
      "execution_count": null,
      "metadata": {
        "colab": {
          "base_uri": "https://localhost:8080/"
        },
        "id": "RKH-1omen0Uu",
        "outputId": "e5a36ed6-bc88-4636-cc69-741f92543940"
      },
      "outputs": [
        {
          "name": "stdout",
          "output_type": "stream",
          "text": [
            "['기타' '가정용' '사업장용' '영업용' '영업장용' '범용']\n"
          ]
        }
      ],
      "source": [
        "# 사용대상 컬럼 값들 확인\n",
        "print(df['사용대상'].unique())"
      ]
    },
    {
      "cell_type": "code",
      "execution_count": null,
      "metadata": {
        "colab": {
          "base_uri": "https://localhost:8080/"
        },
        "id": "8jOFMzCjnwAp",
        "outputId": "84e378fa-5dc1-4f00-9b18-250d669abe0b"
      },
      "outputs": [
        {
          "name": "stdout",
          "output_type": "stream",
          "text": [
            "    시도명 시군구명    종류 처리방식      용도 사용대상  1L가격  1.5L가격  2L가격  2.5L가격  ...  5L가격  \\\n",
            "3   강원도  고성군  규격봉투  소각용  음식물쓰레기  가정용     0       0    60       0  ...   120   \n",
            "8   강원도  삼척시  규격봉투  매립용  음식물쓰레기  가정용     0       0     0       0  ...    80   \n",
            "9   강원도  양구군  규격봉투  매립용  음식물쓰레기  가정용     0       0    50       0  ...   120   \n",
            "12  강원도  양양군  규격봉투   기타  음식물쓰레기  가정용     0       0    40       0  ...    90   \n",
            "16  강원도  영월군  규격봉투  매립용  음식물쓰레기  가정용     0       0     0       0  ...   110   \n",
            "\n",
            "    10L가격  20L가격  30L가격  50L가격  60L가격  75L가격  100L가격  120L가격  125L가격  \n",
            "3       0      0      0      0      0      0       0       0       0  \n",
            "8     150    290      0      0      0      0       0       0       0  \n",
            "9     210    400      0      0      0      0       0       0       0  \n",
            "12    170    340      0      0      0      0       0       0       0  \n",
            "16    180    350      0    900      0   1350       0       0       0  \n",
            "\n",
            "[5 rows x 21 columns]\n"
          ]
        }
      ],
      "source": [
        "df_filtered = df[(df['용도']=='음식물쓰레기')&(df['사용대상']=='가정용')]\n",
        "print(df_filtered.head())"
      ]
    },
    {
      "attachments": {},
      "cell_type": "markdown",
      "metadata": {
        "id": "467CHNtBpoN2"
      },
      "source": [
        "#### 421-03 2L 봉투가 존재하는 데이터 추출"
      ]
    },
    {
      "cell_type": "code",
      "execution_count": null,
      "metadata": {
        "colab": {
          "base_uri": "https://localhost:8080/"
        },
        "id": "grPIk1T1pnZF",
        "outputId": "4fa88091-f519-429e-b4af-cc7c234ef2d2"
      },
      "outputs": [
        {
          "name": "stdout",
          "output_type": "stream",
          "text": [
            "    시도명 시군구명    종류 처리방식      용도 사용대상  1L가격  1.5L가격  2L가격  2.5L가격  ...  5L가격  \\\n",
            "3   강원도  고성군  규격봉투  소각용  음식물쓰레기  가정용     0       0    60       0  ...   120   \n",
            "9   강원도  양구군  규격봉투  매립용  음식물쓰레기  가정용     0       0    50       0  ...   120   \n",
            "12  강원도  양양군  규격봉투   기타  음식물쓰레기  가정용     0       0    40       0  ...    90   \n",
            "20  강원도  원주시  규격봉투   기타  음식물쓰레기  가정용     0       0    80       0  ...   170   \n",
            "33  강원도  춘천시  규격봉투  매립용  음식물쓰레기  가정용    40       0    50       0  ...   140   \n",
            "\n",
            "    10L가격  20L가격  30L가격  50L가격  60L가격  75L가격  100L가격  120L가격  125L가격  \n",
            "3       0      0      0      0      0      0       0       0       0  \n",
            "9     210    400      0      0      0      0       0       0       0  \n",
            "12    170    340      0      0      0      0       0       0       0  \n",
            "20    320    680      0   1690      0      0       0       0       0  \n",
            "33    230    470      0      0      0      0       0       0       0  \n",
            "\n",
            "[5 rows x 21 columns]\n"
          ]
        }
      ],
      "source": [
        "rst_df = df_filtered[df_filtered['2L가격']!=0]\n",
        "print(rst_df.head())"
      ]
    },
    {
      "attachments": {},
      "cell_type": "markdown",
      "metadata": {
        "id": "kTaMguefqt6R"
      },
      "source": [
        "#### 421-04 결과 출력하기"
      ]
    },
    {
      "cell_type": "code",
      "execution_count": null,
      "metadata": {
        "colab": {
          "base_uri": "https://localhost:8080/"
        },
        "id": "H7if33Q6nmae",
        "outputId": "007ba7c8-bd49-46aa-ac2d-887c59bb17c8"
      },
      "outputs": [
        {
          "name": "stdout",
          "output_type": "stream",
          "text": [
            "119\n"
          ]
        }
      ],
      "source": [
        "result = int(rst_df['2L가격'].mean())\n",
        "print(result)"
      ]
    },
    {
      "cell_type": "code",
      "execution_count": null,
      "metadata": {
        "colab": {
          "base_uri": "https://localhost:8080/"
        },
        "id": "KTBOjT_0nmSH",
        "outputId": "4a5bad46-e76a-4367-9011-2407efe04256"
      },
      "outputs": [
        {
          "name": "stdout",
          "output_type": "stream",
          "text": [
            "119\n"
          ]
        }
      ],
      "source": [
        "## 전체 풀이 코드 \n",
        "\n",
        "import pandas as pd\n",
        "\n",
        "df = pd.read_csv('/content/yemoonsaBigdata/datasets/Part3/501_trash_bag.csv', encoding='cp949')\n",
        "\n",
        "df_filtered = df[(df['용도']=='음식물쓰레기')&(df['사용대상']=='가정용')]\n",
        "rst_df = df_filtered[df_filtered['2L가격']!=0]\n",
        "\n",
        "result = int(rst_df['2L가격'].mean())\n",
        "\n",
        "print(result) # 최종 결과값만 print되도록 해야 합니다."
      ]
    },
    {
      "attachments": {},
      "cell_type": "markdown",
      "metadata": {
        "id": "l3m5CQB6sRmE"
      },
      "source": [
        "### (2) 두 번째 문제"
      ]
    },
    {
      "attachments": {},
      "cell_type": "markdown",
      "metadata": {
        "id": "1eygseSQ9vac"
      },
      "source": [
        "#### 422-01 데이터 불러오기"
      ]
    },
    {
      "cell_type": "code",
      "execution_count": 7,
      "metadata": {
        "colab": {
          "base_uri": "https://localhost:8080/"
        },
        "id": "tZCcQfxdsTq6",
        "outputId": "ecc48cb0-c6df-4794-e4fb-98132c40efe9"
      },
      "outputs": [
        {
          "name": "stdout",
          "output_type": "stream",
          "text": [
            "   Gender  Height  Weight\n",
            "0    Male     174      96\n",
            "1    Male     189      87\n",
            "2  Female     185     110\n",
            "3  Female     195     104\n",
            "4    Male     149      61\n"
          ]
        }
      ],
      "source": [
        "import pandas as pd\n",
        "\n",
        "df = pd.read_csv('../datasets/Part3/502_bmi.csv')\n",
        "print(df.head())"
      ]
    },
    {
      "cell_type": "code",
      "execution_count": 8,
      "metadata": {},
      "outputs": [
        {
          "data": {
            "text/plain": [
              "28"
            ]
          },
          "execution_count": 8,
          "metadata": {},
          "output_type": "execute_result"
        }
      ],
      "source": [
        "df['BMI'] = df['Weight'] / ((df['Height'] / 100) ** 2)\n",
        "len(df[(df['BMI'] >= 18.5) & (df['BMI'] < 23)]) - len(df[(df['BMI'] >= 23) & (df['BMI'] < 25)])"
      ]
    },
    {
      "attachments": {},
      "cell_type": "markdown",
      "metadata": {
        "id": "E6dNctgzszbK"
      },
      "source": [
        "#### 422-02 bmi지수 구하기"
      ]
    },
    {
      "cell_type": "code",
      "execution_count": null,
      "metadata": {
        "colab": {
          "base_uri": "https://localhost:8080/"
        },
        "id": "koHSC9VKsmTt",
        "outputId": "8d288aab-63f6-4eb8-8f5c-ce49f159fffe"
      },
      "outputs": [
        {
          "name": "stdout",
          "output_type": "stream",
          "text": [
            "   Gender  Height  Weight  Height_m        BMI\n",
            "0    Male     174      96      1.74  31.708284\n",
            "1    Male     189      87      1.89  24.355421\n",
            "2  Female     185     110      1.85  32.140248\n",
            "3  Female     195     104      1.95  27.350427\n",
            "4    Male     149      61      1.49  27.476240\n"
          ]
        }
      ],
      "source": [
        "df['Height_m'] = df['Height']/100 # cm단위를 m로 변환\n",
        "df['BMI'] = df['Weight']/(df['Height_m']**2)\n",
        "print(df.head())"
      ]
    },
    {
      "attachments": {},
      "cell_type": "markdown",
      "metadata": {
        "id": "Q1ICsLgH-2Xf"
      },
      "source": [
        "#### 422-03 비만도 구하기"
      ]
    },
    {
      "cell_type": "code",
      "execution_count": null,
      "metadata": {
        "colab": {
          "base_uri": "https://localhost:8080/"
        },
        "id": "HJFEzhof9rBD",
        "outputId": "1a046b60-1172-43bb-f1da-518c41a0462f"
      },
      "outputs": [
        {
          "name": "stdout",
          "output_type": "stream",
          "text": [
            "47 19\n"
          ]
        }
      ],
      "source": [
        "n1 = len(df[(df['BMI']>=18.5)&(df['BMI']<23)]) # 비만도 정상\n",
        "n2 = len(df[(df['BMI']>=23)&(df['BMI']<25)]) # 비만도 과체중\n",
        "print(n1, n2)"
      ]
    },
    {
      "attachments": {},
      "cell_type": "markdown",
      "metadata": {
        "id": "QxnoU8fC_XPc"
      },
      "source": [
        "#### 422-04 결과 출력하기"
      ]
    },
    {
      "cell_type": "code",
      "execution_count": null,
      "metadata": {
        "colab": {
          "base_uri": "https://localhost:8080/"
        },
        "id": "VGoMStOp_Nqp",
        "outputId": "aa2d1721-b587-4e61-8895-6612141e93a0"
      },
      "outputs": [
        {
          "name": "stdout",
          "output_type": "stream",
          "text": [
            "28\n"
          ]
        }
      ],
      "source": [
        "result = abs(n1 - n2)\n",
        "print(result)"
      ]
    },
    {
      "cell_type": "code",
      "execution_count": null,
      "metadata": {
        "colab": {
          "base_uri": "https://localhost:8080/"
        },
        "id": "7-pbdsXY_c1M",
        "outputId": "ec43e8d6-1839-434a-81cd-2e4ccbddcfa1"
      },
      "outputs": [
        {
          "name": "stdout",
          "output_type": "stream",
          "text": [
            "28\n"
          ]
        }
      ],
      "source": [
        "## 전체 풀이 코드\n",
        "import pandas as pd\n",
        "\n",
        "df = pd.read_csv('/content/yemoonsaBigdata/datasets/Part3/502_bmi.csv')\n",
        "\n",
        "df['Height_m'] = df['Height']/100 # cm단위를 m로 변환\n",
        "df['BMI'] = df['Weight']/(df['Height_m']**2)\n",
        "\n",
        "n1 = len(df[(df['BMI']>=18.5)&(df['BMI']<23)]) # 비만도 정상\n",
        "n2 = len(df[(df['BMI']>=23)&(df['BMI']<25)]) # 비만도 과체중\n",
        "\n",
        "result = abs(n1 - n2)\n",
        "\n",
        "print(result) # 최종 결과값만 print되도록 해야 합니다. "
      ]
    },
    {
      "attachments": {},
      "cell_type": "markdown",
      "metadata": {
        "id": "gqaE-MngA9un"
      },
      "source": [
        "### (3) 세 번째 문제"
      ]
    },
    {
      "attachments": {},
      "cell_type": "markdown",
      "metadata": {
        "id": "b6WFqUYPBD3I"
      },
      "source": [
        "#### 423-01 데이터 불러오기"
      ]
    },
    {
      "cell_type": "code",
      "execution_count": 9,
      "metadata": {
        "colab": {
          "base_uri": "https://localhost:8080/"
        },
        "id": "Juxc63S5_8OE",
        "outputId": "9c12df91-352e-4e93-98cd-15c71907ceec"
      },
      "outputs": [
        {
          "name": "stdout",
          "output_type": "stream",
          "text": [
            "  학교  학년  총 전입학생  총 전출학생  전체 학생 수\n",
            "0  A   1       9       1      222\n",
            "1  A   2      13       4      148\n",
            "2  A   3       8       7      196\n",
            "3  B   1       7       5      171\n",
            "4  B   2       9       1      216\n"
          ]
        }
      ],
      "source": [
        "import pandas as pd\n",
        "\n",
        "df = pd.read_csv('../datasets/Part3/503_students.csv', encoding='cp949')\n",
        "print(df.head())"
      ]
    },
    {
      "cell_type": "code",
      "execution_count": 20,
      "metadata": {},
      "outputs": [
        {
          "name": "stdout",
          "output_type": "stream",
          "text": [
            "618\n"
          ]
        }
      ],
      "source": [
        "df['순전입'] = df['총 전입학생'] - df['총 전출학생']\n",
        "temp = df.groupby('학교')[['순전입', '전체 학생 수']].sum().reset_index()\n",
        "print(temp[temp['전체 학생 수'] == temp['전체 학생 수'].max()]['전체 학생 수'].values[0])"
      ]
    },
    {
      "attachments": {},
      "cell_type": "markdown",
      "metadata": {
        "id": "o_Or-0_GCwTK"
      },
      "source": [
        "#### 423-02 순 전입학생 수 구하기"
      ]
    },
    {
      "cell_type": "code",
      "execution_count": null,
      "metadata": {
        "colab": {
          "base_uri": "https://localhost:8080/"
        },
        "id": "MT5vClPBC-Ge",
        "outputId": "255bcac9-ba4d-492a-c2db-0109c8ebb25c"
      },
      "outputs": [
        {
          "name": "stdout",
          "output_type": "stream",
          "text": [
            "  학교  학년  총 전입학생  총 전출학생  전체 학생 수  순 전입학생 수\n",
            "0  A   1       9       1      222         8\n",
            "1  A   2      13       4      148         9\n",
            "2  A   3       8       7      196         1\n",
            "3  B   1       7       5      171         2\n",
            "4  B   2       9       1      216         8\n"
          ]
        }
      ],
      "source": [
        "df['순 전입학생 수'] = df['총 전입학생'] - df['총 전출학생']\n",
        "print(df.head())"
      ]
    },
    {
      "attachments": {},
      "cell_type": "markdown",
      "metadata": {
        "id": "anDL_GeyL8OO"
      },
      "source": [
        "#### 423-03 학교별 총 순 전입생 수, 전체 학생 수 계산"
      ]
    },
    {
      "cell_type": "code",
      "execution_count": null,
      "metadata": {
        "colab": {
          "base_uri": "https://localhost:8080/"
        },
        "id": "REZM4liHDEX8",
        "outputId": "d5f89fdf-ee2b-4d31-9579-2001a2411068"
      },
      "outputs": [
        {
          "name": "stdout",
          "output_type": "stream",
          "text": [
            "    순 전입학생 수  전체 학생 수\n",
            "학교                   \n",
            "A         18      566\n",
            "B         13      588\n",
            "C         -9      528\n",
            "D          7      548\n",
            "E         14      603\n"
          ]
        }
      ],
      "source": [
        "rst_df = df.groupby(['학교'])[['순 전입학생 수', '전체 학생 수']].sum()\n",
        "print(rst_df.head())"
      ]
    },
    {
      "attachments": {},
      "cell_type": "markdown",
      "metadata": {
        "id": "oyMeNaWlTjNt"
      },
      "source": [
        "#### 423-04. 결과 출력하기"
      ]
    },
    {
      "cell_type": "code",
      "execution_count": null,
      "metadata": {
        "colab": {
          "base_uri": "https://localhost:8080/"
        },
        "id": "iwP0EKBdTiYQ",
        "outputId": "1602c9ec-299d-4b16-eb80-12249d286bec"
      },
      "outputs": [
        {
          "name": "stdout",
          "output_type": "stream",
          "text": [
            "566\n"
          ]
        }
      ],
      "source": [
        "result = rst_df.loc[rst_df['순 전입학생 수']==rst_df['순 전입학생 수'].max(), '전체 학생 수'].values[0]\n",
        "print(result)"
      ]
    },
    {
      "cell_type": "code",
      "execution_count": null,
      "metadata": {
        "colab": {
          "base_uri": "https://localhost:8080/"
        },
        "id": "O_b-0WhbVYwH",
        "outputId": "70a2f328-3106-4dba-8e99-2afa31f9ae3e"
      },
      "outputs": [
        {
          "name": "stdout",
          "output_type": "stream",
          "text": [
            "학교\n",
            "A    566\n",
            "Name: 전체 학생 수, dtype: int64\n"
          ]
        }
      ],
      "source": [
        "## 참고 - 뒤에 values[0]이 없을 경우 \n",
        "result = rst_df.loc[rst_df['순 전입학생 수']==max(rst_df['순 전입학생 수']), '전체 학생 수']\n",
        "print(result) # 결과 값이 Series형태로 나옴"
      ]
    },
    {
      "cell_type": "code",
      "execution_count": null,
      "metadata": {
        "colab": {
          "base_uri": "https://localhost:8080/"
        },
        "id": "z9aV49OlMLxN",
        "outputId": "2291a362-26a7-4b26-d0a7-54c3cf3655b8"
      },
      "outputs": [
        {
          "name": "stdout",
          "output_type": "stream",
          "text": [
            "566\n"
          ]
        }
      ],
      "source": [
        "## 전체 풀이 코드\n",
        "\n",
        "import pandas as pd\n",
        "\n",
        "df = pd.read_csv('/content/yemoonsaBigdata/datasets/Part3/503_students.csv', encoding='cp949')\n",
        "\n",
        "df['순 전입학생 수'] = df['총 전입학생'] - df['총 전출학생']\n",
        "rst_df = df.groupby(['학교'])[['순 전입학생 수', '전체 학생 수']].sum()\n",
        "\n",
        "result = rst_df.loc[rst_df['순 전입학생 수']==max(rst_df['순 전입학생 수']), '전체 학생 수'].values[0]\n",
        "\n",
        "print(result) # 최종 결과값만 print되도록 해야 합니다. "
      ]
    },
    {
      "attachments": {},
      "cell_type": "markdown",
      "metadata": {
        "id": "enuuvtJ_LmxW"
      },
      "source": [
        "## 3. 작업형 제2유형"
      ]
    },
    {
      "attachments": {},
      "cell_type": "markdown",
      "metadata": {
        "id": "GFllmTiFLshb"
      },
      "source": [
        "### (1) 사전 준비"
      ]
    },
    {
      "attachments": {},
      "cell_type": "markdown",
      "metadata": {
        "id": "XF_qYPA2LyiN"
      },
      "source": [
        "#### 431-01. 데이터 불러오기 "
      ]
    },
    {
      "cell_type": "code",
      "execution_count": 27,
      "metadata": {
        "id": "aYEPu-SbNPBU"
      },
      "outputs": [],
      "source": [
        "# 출력을 원하실 경우 print() 함수 활용\n",
        "# 예시) print(df.head())\n",
        "\n",
        "# getcwd(), chdir() 등 작업 폴더 설정 불필요\n",
        "# 파일 경로 상 내부 드라이브 경로(C: 등) 접근 불가\n",
        "\n",
        "# 데이터 파일 읽기 예제\n",
        "import pandas as pd\n",
        "import numpy as np\n",
        "\n",
        "X_test = pd.read_csv(\"../datasets/Part3/504_x_test.csv\")\n",
        "X_train = pd.read_csv(\"../datasets/Part3/504_x_train.csv\")\n",
        "y_train = pd.read_csv(\"../datasets/Part3/504_y_train.csv\")\n",
        "\n",
        "# 사용자 코딩\n",
        "\n",
        "X = pd.concat([X_train, X_test])\n",
        "\n",
        "COL_NUM = ['year', 'mileage', 'tax', 'mpg', 'engineSize']\n",
        "COL_CAT = ['model', 'transmission', 'fuelType']\n",
        "\n",
        "from sklearn.preprocessing import LabelEncoder\n",
        "from sklearn.preprocessing import StandardScaler\n",
        "from sklearn.ensemble import RandomForestRegressor\n",
        "\n",
        "for cat in COL_CAT:\n",
        "    le = LabelEncoder()\n",
        "    le.fit(X[cat])\n",
        "    X_train[cat] = le.transform(X_train[cat])\n",
        "    X_test[cat] = le.transform(X_test[cat])\n",
        "\n",
        "scaler = StandardScaler()\n",
        "scaler.fit(X[COL_NUM])\n",
        "X_train[COL_NUM] = scaler.transform(X_train[COL_NUM])\n",
        "X_test[COL_NUM] = scaler.transform(X_test[COL_NUM])\n",
        "\n",
        "rf = RandomForestRegressor()\n",
        "rf.fit(X_train, y_train['price'])\n",
        "pred = rf.predict(X_test)\n",
        "\n",
        "# 답안 제출 참고\n",
        "# 아래 코드 예측변수와 수험번호를 개인별로 변경하여 활용\n",
        "pd.DataFrame({'index': X_test.index, 'y_pred': pred}).to_csv('003000000.csv', index=False)"
      ]
    },
    {
      "cell_type": "code",
      "execution_count": null,
      "metadata": {
        "colab": {
          "base_uri": "https://localhost:8080/"
        },
        "id": "HTA6g5mgkdB9",
        "outputId": "350a7b8b-e14b-4eeb-b1f1-c7937e4ffff2"
      },
      "outputs": [
        {
          "name": "stdout",
          "output_type": "stream",
          "text": [
            "   id model  year transmission  mileage fuelType  tax   mpg  engineSize\n",
            "0   1    A1  2019    Automatic     3500   Petrol  145  40.9         2.0\n",
            "1   2   RS4  2020    Semi-Auto     2500   Petrol  145  28.8         2.9\n",
            "2   3    A8  2019    Semi-Auto      500   Diesel  145  40.4         3.0\n",
            "3   4    Q5  2019    Semi-Auto     5089   Diesel  150  38.2         2.0\n",
            "4   5    A5  2020    Semi-Auto     4951   Diesel  145  51.4         2.0\n"
          ]
        }
      ],
      "source": [
        "print(X_train.head())"
      ]
    },
    {
      "cell_type": "code",
      "execution_count": null,
      "metadata": {
        "colab": {
          "base_uri": "https://localhost:8080/"
        },
        "id": "h_GgRpsxkdW2",
        "outputId": "636def41-e8b1-48b5-bc88-e664039f5e7c"
      },
      "outputs": [
        {
          "name": "stdout",
          "output_type": "stream",
          "text": [
            "   id  price\n",
            "0   1  21350\n",
            "1   2  69691\n",
            "2   3  42950\n",
            "3   4  31470\n",
            "4   5  27495\n"
          ]
        }
      ],
      "source": [
        "print(y_train.head())"
      ]
    },
    {
      "cell_type": "code",
      "execution_count": null,
      "metadata": {
        "colab": {
          "base_uri": "https://localhost:8080/"
        },
        "id": "SLBqZ3nGNgkm",
        "outputId": "eca881ed-491f-4eef-a6ac-ea12513a08b1"
      },
      "outputs": [
        {
          "name": "stdout",
          "output_type": "stream",
          "text": [
            "     id model  year transmission  mileage fuelType  tax   mpg  engineSize\n",
            "0  7469    A4  2020    Semi-Auto     4000   Diesel  145  54.3         3.0\n",
            "1  7470    A6  2016       Manual    31300   Diesel   30  61.4         2.0\n",
            "2  7471    Q5  2019    Semi-Auto    11296   Diesel  150  38.2         2.0\n",
            "3  7472    A1  2018       Manual     6500   Petrol  145  55.4         1.4\n",
            "4  7473    A3  2016       Manual    31524   Petrol   30  60.1         1.4\n"
          ]
        }
      ],
      "source": [
        "print(X_test.head())"
      ]
    },
    {
      "attachments": {},
      "cell_type": "markdown",
      "metadata": {
        "id": "XWmcSYLPO5AQ"
      },
      "source": [
        "### (2) 데이터 전처리"
      ]
    },
    {
      "attachments": {},
      "cell_type": "markdown",
      "metadata": {
        "id": "L8MjPOBwOr0y"
      },
      "source": [
        "#### 432-01. 데이터 확인하기"
      ]
    },
    {
      "cell_type": "code",
      "execution_count": null,
      "metadata": {
        "colab": {
          "base_uri": "https://localhost:8080/"
        },
        "id": "Fc91twmPPDMa",
        "outputId": "3dd4e146-e207-47ea-b65f-2efcc9ed0308"
      },
      "outputs": [
        {
          "name": "stdout",
          "output_type": "stream",
          "text": [
            "<class 'pandas.core.frame.DataFrame'>\n",
            "RangeIndex: 7468 entries, 0 to 7467\n",
            "Data columns (total 9 columns):\n",
            " #   Column        Non-Null Count  Dtype  \n",
            "---  ------        --------------  -----  \n",
            " 0   id            7468 non-null   int64  \n",
            " 1   model         7468 non-null   object \n",
            " 2   year          7468 non-null   int64  \n",
            " 3   transmission  7468 non-null   object \n",
            " 4   mileage       7468 non-null   int64  \n",
            " 5   fuelType      7468 non-null   object \n",
            " 6   tax           7468 non-null   int64  \n",
            " 7   mpg           7468 non-null   float64\n",
            " 8   engineSize    7468 non-null   float64\n",
            "dtypes: float64(2), int64(4), object(3)\n",
            "memory usage: 525.2+ KB\n",
            "None\n"
          ]
        }
      ],
      "source": [
        "print(X_train.info())"
      ]
    },
    {
      "cell_type": "code",
      "execution_count": null,
      "metadata": {
        "colab": {
          "base_uri": "https://localhost:8080/"
        },
        "id": "L-t1ANoCPzlj",
        "outputId": "63358f71-9089-4f04-a466-e5cb2f838531"
      },
      "outputs": [
        {
          "name": "stdout",
          "output_type": "stream",
          "text": [
            "<class 'pandas.core.frame.DataFrame'>\n",
            "RangeIndex: 3200 entries, 0 to 3199\n",
            "Data columns (total 9 columns):\n",
            " #   Column        Non-Null Count  Dtype  \n",
            "---  ------        --------------  -----  \n",
            " 0   id            3200 non-null   int64  \n",
            " 1   model         3200 non-null   object \n",
            " 2   year          3200 non-null   int64  \n",
            " 3   transmission  3200 non-null   object \n",
            " 4   mileage       3200 non-null   int64  \n",
            " 5   fuelType      3200 non-null   object \n",
            " 6   tax           3200 non-null   int64  \n",
            " 7   mpg           3200 non-null   float64\n",
            " 8   engineSize    3200 non-null   float64\n",
            "dtypes: float64(2), int64(4), object(3)\n",
            "memory usage: 225.1+ KB\n",
            "None\n"
          ]
        }
      ],
      "source": [
        "print(X_test.info())"
      ]
    },
    {
      "cell_type": "code",
      "execution_count": null,
      "metadata": {
        "colab": {
          "base_uri": "https://localhost:8080/"
        },
        "id": "bXX_QbjeP4uB",
        "outputId": "d0f248fb-8b64-4d3b-c121-0f9149c67dba"
      },
      "outputs": [
        {
          "name": "stdout",
          "output_type": "stream",
          "text": [
            "<class 'pandas.core.frame.DataFrame'>\n",
            "RangeIndex: 7468 entries, 0 to 7467\n",
            "Data columns (total 2 columns):\n",
            " #   Column  Non-Null Count  Dtype\n",
            "---  ------  --------------  -----\n",
            " 0   id      7468 non-null   int64\n",
            " 1   price   7468 non-null   int64\n",
            "dtypes: int64(2)\n",
            "memory usage: 116.8 KB\n",
            "None\n"
          ]
        }
      ],
      "source": [
        "print(y_train.info())"
      ]
    },
    {
      "attachments": {},
      "cell_type": "markdown",
      "metadata": {
        "id": "ef9keRthP-8v"
      },
      "source": [
        "#### 432-02. 변수별 결측치 수 확인"
      ]
    },
    {
      "cell_type": "code",
      "execution_count": null,
      "metadata": {
        "colab": {
          "base_uri": "https://localhost:8080/"
        },
        "id": "wXkH3qNuPcCK",
        "outputId": "848c9901-ed04-4410-e3af-d4be62ba8b68"
      },
      "outputs": [
        {
          "data": {
            "text/plain": [
              "id              0\n",
              "model           0\n",
              "year            0\n",
              "transmission    0\n",
              "mileage         0\n",
              "fuelType        0\n",
              "tax             0\n",
              "mpg             0\n",
              "engineSize      0\n",
              "dtype: int64"
            ]
          },
          "execution_count": 27,
          "metadata": {},
          "output_type": "execute_result"
        }
      ],
      "source": [
        "X_train.isnull().sum()"
      ]
    },
    {
      "cell_type": "code",
      "execution_count": null,
      "metadata": {
        "colab": {
          "base_uri": "https://localhost:8080/"
        },
        "id": "i4Pk_UI1QFDP",
        "outputId": "1d633e80-bd5c-4c83-87df-20e2dd282655"
      },
      "outputs": [
        {
          "data": {
            "text/plain": [
              "id              0\n",
              "model           0\n",
              "year            0\n",
              "transmission    0\n",
              "mileage         0\n",
              "fuelType        0\n",
              "tax             0\n",
              "mpg             0\n",
              "engineSize      0\n",
              "dtype: int64"
            ]
          },
          "execution_count": 28,
          "metadata": {},
          "output_type": "execute_result"
        }
      ],
      "source": [
        "X_test.isnull().sum()"
      ]
    },
    {
      "cell_type": "code",
      "execution_count": null,
      "metadata": {
        "colab": {
          "base_uri": "https://localhost:8080/"
        },
        "id": "yjloWyVtQFbm",
        "outputId": "0bbd0a0e-2945-4d71-cef5-c4744f8f27a4"
      },
      "outputs": [
        {
          "data": {
            "text/plain": [
              "id       0\n",
              "price    0\n",
              "dtype: int64"
            ]
          },
          "execution_count": 29,
          "metadata": {},
          "output_type": "execute_result"
        }
      ],
      "source": [
        "y_train.isnull().sum()"
      ]
    },
    {
      "attachments": {},
      "cell_type": "markdown",
      "metadata": {
        "id": "eY_eYZg9QTJF"
      },
      "source": [
        "#### 432-03. 변수 구분"
      ]
    },
    {
      "cell_type": "code",
      "execution_count": null,
      "metadata": {
        "id": "m0RDdrutPGis"
      },
      "outputs": [],
      "source": [
        "# id: 불필요한 변수\n",
        "# year, mileage, tax, mpg, engineSize: 수치형 변수\n",
        "# model, transmission, fuelType: 범주형 변수\n",
        "# price: 종속 변수\n",
        "\n",
        "COL_DEL = ['id']\n",
        "COL_NUM = ['year', 'mileage', 'tax', 'mpg', 'engineSize']\n",
        "COL_CAT = ['model', 'transmission', 'fuelType']\n",
        "COL_Y = ['price']"
      ]
    },
    {
      "attachments": {},
      "cell_type": "markdown",
      "metadata": {
        "id": "Bg6K5CN6Ywxm"
      },
      "source": [
        "### (3) 데이터 모형 구축"
      ]
    },
    {
      "attachments": {},
      "cell_type": "markdown",
      "metadata": {
        "id": "ejvncLBVZMZm"
      },
      "source": [
        "#### 433-01. 데이터 분할"
      ]
    },
    {
      "cell_type": "code",
      "execution_count": null,
      "metadata": {
        "id": "T8pRTF_rZBwR"
      },
      "outputs": [],
      "source": [
        "from sklearn.model_selection import train_test_split\n",
        "X_tr, X_val, y_tr, y_val = train_test_split(X_train[COL_NUM+COL_CAT]\n",
        "                                            , y_train[COL_Y].values.ravel()\n",
        "                                            , test_size=0.3)"
      ]
    },
    {
      "cell_type": "code",
      "execution_count": null,
      "metadata": {
        "colab": {
          "base_uri": "https://localhost:8080/"
        },
        "id": "dxowkncfoEdW",
        "outputId": "89e61bf0-afbb-4b50-ec8f-249b0b60abbd"
      },
      "outputs": [
        {
          "name": "stdout",
          "output_type": "stream",
          "text": [
            "      year  mileage  tax   mpg  engineSize model transmission fuelType\n",
            "459   2016    28994  160  50.4         2.0    Q3    Semi-Auto   Diesel\n",
            "3338  2009    92000  200  40.9         1.6    A3       Manual   Petrol\n",
            "5458  2019     9124  145  47.9         2.0    A6    Automatic   Diesel\n",
            "6364  2016    35500   20  60.1         1.0    A3       Manual   Petrol\n",
            "3295  2019     5450  145  34.9         2.0    A3    Semi-Auto   Petrol\n"
          ]
        }
      ],
      "source": [
        "print(X_tr.head())"
      ]
    },
    {
      "cell_type": "code",
      "execution_count": null,
      "metadata": {
        "colab": {
          "base_uri": "https://localhost:8080/"
        },
        "id": "ZP4tuO-IoMb4",
        "outputId": "ab1b1dd3-5e39-4614-a56a-9a5f6eeded0c"
      },
      "outputs": [
        {
          "name": "stdout",
          "output_type": "stream",
          "text": [
            "[20495  4495 27490 ... 15500 23940 28795]\n"
          ]
        }
      ],
      "source": [
        "print(y_tr)"
      ]
    },
    {
      "attachments": {},
      "cell_type": "markdown",
      "metadata": {
        "id": "7DTiQZ5FZtJC"
      },
      "source": [
        "#### 433-02. 수치형 변수 - 데이터 스케일링 "
      ]
    },
    {
      "cell_type": "code",
      "execution_count": null,
      "metadata": {
        "id": "veE8-Al_Yvn6"
      },
      "outputs": [],
      "source": [
        "from sklearn.preprocessing import StandardScaler\n",
        "\n",
        "scaler = StandardScaler()\n",
        "scaler.fit(X_tr[COL_NUM])\n",
        "\n",
        "X_tr[COL_NUM]   = scaler.transform(X_tr[COL_NUM])\n",
        "X_val[COL_NUM]  = scaler.transform(X_val[COL_NUM])\n",
        "X_test[COL_NUM] = scaler.transform(X_test[COL_NUM])"
      ]
    },
    {
      "cell_type": "code",
      "execution_count": null,
      "metadata": {
        "colab": {
          "base_uri": "https://localhost:8080/"
        },
        "id": "bxgcaFt7QZBa",
        "outputId": "4958d97a-49ed-4bb9-c5ea-f6f015f164a4"
      },
      "outputs": [
        {
          "name": "stdout",
          "output_type": "stream",
          "text": [
            "          year   mileage       tax       mpg  engineSize\n",
            "459  -0.512208  0.177396  0.519110 -0.056217    0.131550\n",
            "3338 -3.793228  2.896925  1.117267 -0.776595   -0.538799\n",
            "5458  0.893943 -0.680253  0.294801 -0.245790    0.131550\n",
            "6364 -0.512208  0.458215 -1.574439  0.679327   -1.544323\n",
            "3295  0.893943 -0.838834  0.294801 -1.231570    0.131550\n"
          ]
        }
      ],
      "source": [
        "print(X_tr[COL_NUM].head())"
      ]
    },
    {
      "attachments": {},
      "cell_type": "markdown",
      "metadata": {
        "id": "Ae0hWOZCpbwd"
      },
      "source": [
        "#### 433-03. 범주형 변수 - 데이터 인코딩"
      ]
    },
    {
      "cell_type": "code",
      "execution_count": null,
      "metadata": {
        "colab": {
          "base_uri": "https://localhost:8080/"
        },
        "id": "mKAmANglZ_Li",
        "outputId": "88c83938-04e2-4a6e-cbe3-f5c86b89f679"
      },
      "outputs": [
        {
          "name": "stdout",
          "output_type": "stream",
          "text": [
            "model\n",
            "[' A1' ' A2' ' A3' ' A4' ' A5' ' A6' ' A7' ' A8' ' Q2' ' Q3' ' Q5' ' Q7'\n",
            " ' Q8' ' R8' ' RS3' ' RS4' ' RS5' ' RS6' ' RS7' ' S3' ' S4' ' S5' ' S8'\n",
            " ' SQ5' ' SQ7' ' TT']\n",
            "\n",
            "\n",
            "transmission\n",
            "['Automatic' 'Manual' 'Semi-Auto']\n",
            "\n",
            "\n",
            "fuelType\n",
            "['Diesel' 'Hybrid' 'Petrol']\n",
            "\n",
            "\n"
          ]
        }
      ],
      "source": [
        "from sklearn.preprocessing import LabelEncoder\n",
        "\n",
        "X = pd.concat([X_train[COL_CAT], X_test[COL_CAT]])\n",
        "\n",
        "for col in COL_CAT:\n",
        "  le = LabelEncoder()\n",
        "  le.fit(X[col])\n",
        "  X_tr[col] = le.transform(X_tr[col])\n",
        "  X_val[col] = le.transform(X_val[col])\n",
        "  X_test[col] = le.transform(X_test[col])\n",
        "\n",
        "  # 각 변수의 클래스 확인\n",
        "  print(col)\n",
        "  print(le.classes_)\n",
        "  print('\\n')"
      ]
    },
    {
      "cell_type": "code",
      "execution_count": null,
      "metadata": {
        "colab": {
          "base_uri": "https://localhost:8080/"
        },
        "id": "juDxpiCBfJBL",
        "outputId": "5712fa78-1d8a-4fc4-e155-cc3e39c32f50"
      },
      "outputs": [
        {
          "name": "stdout",
          "output_type": "stream",
          "text": [
            "      model  transmission  fuelType\n",
            "459       9             2         0\n",
            "3338      2             1         2\n",
            "5458      5             0         0\n",
            "6364      2             1         2\n",
            "3295      2             2         2\n"
          ]
        }
      ],
      "source": [
        "print(X_tr[COL_CAT].head())"
      ]
    },
    {
      "attachments": {},
      "cell_type": "markdown",
      "metadata": {
        "id": "EKebrCq1pZxF"
      },
      "source": [
        "#### 433-04. 모형 학습\n"
      ]
    },
    {
      "cell_type": "code",
      "execution_count": null,
      "metadata": {
        "colab": {
          "base_uri": "https://localhost:8080/"
        },
        "id": "Ae20pJyLpYoe",
        "outputId": "9935b1e9-3813-4742-e926-dff59205b000"
      },
      "outputs": [
        {
          "data": {
            "text/plain": [
              "XGBRegressor(objective='reg:squarederror', random_state=123)"
            ]
          },
          "execution_count": 38,
          "metadata": {},
          "output_type": "execute_result"
        }
      ],
      "source": [
        "## 1) 랜덤 포레스트\n",
        "from sklearn.ensemble import RandomForestRegressor\n",
        "modelRF = RandomForestRegressor(random_state=123)\n",
        "modelRF.fit(X_tr, y_tr)\n",
        "\n",
        "## 2) XGBoost\n",
        "from xgboost import XGBRegressor\n",
        "modelXGB = XGBRegressor(objective='reg:squarederror', random_state=123)\n",
        "modelXGB.fit(X_tr, y_tr)"
      ]
    },
    {
      "attachments": {},
      "cell_type": "markdown",
      "metadata": {
        "id": "Y2QtyWMXqO3h"
      },
      "source": [
        "### (4) 데이터 모형 평가"
      ]
    },
    {
      "attachments": {},
      "cell_type": "markdown",
      "metadata": {
        "id": "pdLphLrhqV7m"
      },
      "source": [
        "#### 434-01. 검증 데이터로 예측값 생성"
      ]
    },
    {
      "cell_type": "code",
      "execution_count": null,
      "metadata": {
        "id": "sWWOYN3WqcUH"
      },
      "outputs": [],
      "source": [
        "y_val_predRF = modelRF.predict(X_val)\n",
        "y_val_predXGB = modelXGB.predict(X_val)"
      ]
    },
    {
      "attachments": {},
      "cell_type": "markdown",
      "metadata": {
        "id": "FV7Xh7plq-Mt"
      },
      "source": [
        "#### 434-02. 평가지표 구하기"
      ]
    },
    {
      "cell_type": "code",
      "execution_count": null,
      "metadata": {
        "colab": {
          "base_uri": "https://localhost:8080/"
        },
        "id": "r2w15xwXpFLy",
        "outputId": "7af214b4-3c85-4cb8-cbf7-215bc55ab9fc"
      },
      "outputs": [
        {
          "name": "stdout",
          "output_type": "stream",
          "text": [
            "Random Forest: \t 2617.114289963023\n",
            "XGBoost: \t 2915.608649315291\n"
          ]
        }
      ],
      "source": [
        "## 답안 채점 기준인 rmse 사용 (mean_squared_error를 사용하여 검증해도 됩니다.)\n",
        "from sklearn.metrics import mean_squared_error\n",
        "import numpy as np\n",
        "\n",
        "def cal_rmse(actual, pred):\n",
        "  return np.sqrt(mean_squared_error(actual, pred))\n",
        "\n",
        "scoreRF = cal_rmse(y_val, y_val_predRF)\n",
        "scoreXGB = cal_rmse(y_val, y_val_predXGB)\n",
        "\n",
        "print('Random Forest: \\t', scoreRF)\n",
        "print('XGBoost: \\t', scoreXGB)"
      ]
    },
    {
      "attachments": {},
      "cell_type": "markdown",
      "metadata": {
        "id": "V01Jr9WSuAxx"
      },
      "source": [
        "#### 434-03. 학습, 검증 성능 확인 함수"
      ]
    },
    {
      "cell_type": "code",
      "execution_count": null,
      "metadata": {
        "id": "Bgdia-zmrsTC"
      },
      "outputs": [],
      "source": [
        "def get_scores(model, X_tr, X_val, y_tr, y_val):\n",
        "\n",
        "  y_tr_pred = model.predict(X_tr)\n",
        "  y_val_pred = model.predict(X_val)\n",
        "  tr_score = cal_rmse(y_tr, y_tr_pred)\n",
        "  val_score = cal_rmse(y_val, y_val_pred)\n",
        "\n",
        "  return f'train: {round(tr_score, 4)}, valid: {round(val_score, 4)}'"
      ]
    },
    {
      "cell_type": "code",
      "execution_count": null,
      "metadata": {
        "colab": {
          "base_uri": "https://localhost:8080/"
        },
        "id": "OBtE9N_nutsV",
        "outputId": "7c54f075-59da-4198-8019-74520eec76b4"
      },
      "outputs": [
        {
          "name": "stdout",
          "output_type": "stream",
          "text": [
            "Random Forest \t- train: 989.7972, valid: 2617.1143\n",
            "XGBoost \t- train: 2497.9281, valid: 2915.6086\n"
          ]
        }
      ],
      "source": [
        "print('Random Forest \\t-', get_scores(modelRF, X_tr, X_val, y_tr, y_val))\n",
        "print('XGBoost \\t-', get_scores(modelXGB, X_tr, X_val, y_tr, y_val))"
      ]
    },
    {
      "attachments": {},
      "cell_type": "markdown",
      "metadata": {
        "id": "cAToCWTrvTbU"
      },
      "source": [
        "#### 434-04. 하이퍼 파라미터 튜닝"
      ]
    },
    {
      "cell_type": "code",
      "execution_count": null,
      "metadata": {
        "colab": {
          "base_uri": "https://localhost:8080/"
        },
        "id": "i938SQzFwher",
        "outputId": "11baebc7-9894-44da-c595-0f5618c7aec0"
      },
      "outputs": [
        {
          "name": "stdout",
          "output_type": "stream",
          "text": [
            "XGBoost2 \t- train: 2158.4701, valid: 2727.3874\n",
            "XGBoost3 \t- train: 1270.6365, valid: 2566.9535\n",
            "XGBoost4 \t- train: 1912.8758, valid: 2594.9053\n",
            "XGBoost5 \t- train: 993.8616, valid: 2548.8431\n"
          ]
        }
      ],
      "source": [
        "modelXGB2 = XGBRegressor(objective='reg:squarederror', n_estimators=50, max_depth=5, min_child_weight=2, random_state=123)\n",
        "modelXGB2.fit(X_tr, y_tr)\n",
        "\n",
        "modelXGB3 = XGBRegressor(objective='reg:squarederror', n_estimators=50, max_depth=10, min_child_weight=2, random_state=123)\n",
        "modelXGB3.fit(X_tr, y_tr)\n",
        "\n",
        "modelXGB4 = XGBRegressor(objective='reg:squarederror', n_estimators=100, max_depth=5, min_child_weight=1, random_state=123)\n",
        "modelXGB4.fit(X_tr, y_tr)\n",
        "\n",
        "modelXGB5 = XGBRegressor(objective='reg:squarederror', n_estimators=100, max_depth=10, min_child_weight=2, random_state=123)\n",
        "modelXGB5.fit(X_tr, y_tr)\n",
        "\n",
        "print('XGBoost2 \\t-', get_scores(modelXGB2, X_tr, X_val, y_tr, y_val))\n",
        "print('XGBoost3 \\t-', get_scores(modelXGB3, X_tr, X_val, y_tr, y_val))\n",
        "print('XGBoost4 \\t-', get_scores(modelXGB4, X_tr, X_val, y_tr, y_val))\n",
        "print('XGBoost5 \\t-', get_scores(modelXGB5, X_tr, X_val, y_tr, y_val))"
      ]
    },
    {
      "attachments": {},
      "cell_type": "markdown",
      "metadata": {
        "id": "vUWem8hAk5ra"
      },
      "source": [
        "#### 434-05. 최종 결과값 생성"
      ]
    },
    {
      "cell_type": "code",
      "execution_count": null,
      "metadata": {
        "colab": {
          "base_uri": "https://localhost:8080/"
        },
        "id": "OWGhL_-ujwB8",
        "outputId": "edb443c4-8aaa-4897-d750-bb5acda0a825"
      },
      "outputs": [
        {
          "name": "stdout",
          "output_type": "stream",
          "text": [
            "     id         price\n",
            "0  7469  32735.384766\n",
            "1  7470  16833.208984\n",
            "2  7471  34719.070312\n",
            "3  7472  16310.742188\n",
            "4  7473  14707.406250\n"
          ]
        }
      ],
      "source": [
        "pred = modelXGB4.predict(X_test[COL_NUM+COL_CAT])\n",
        "result = pd.DataFrame({'id': X_test.id, 'price': pred})\n",
        "print(result.head())"
      ]
    },
    {
      "cell_type": "code",
      "execution_count": null,
      "metadata": {
        "id": "NKmm1YIPllu_"
      },
      "outputs": [],
      "source": [
        "## 최종 결과 확인 후 to_csv 함수로 제출\n",
        "# result.to_csv('003000000.csv', index=False)"
      ]
    }
  ],
  "metadata": {
    "colab": {
      "authorship_tag": "ABX9TyPo1R28jnPADGYY2kwXdipB",
      "include_colab_link": true,
      "mount_file_id": "1nPZkv9TyFdpkwWLo1WmFNFpcKra8Dftl",
      "provenance": []
    },
    "kernelspec": {
      "display_name": "Python 3",
      "name": "python3"
    },
    "language_info": {
      "codemirror_mode": {
        "name": "ipython",
        "version": 3
      },
      "file_extension": ".py",
      "mimetype": "text/x-python",
      "name": "python",
      "nbconvert_exporter": "python",
      "pygments_lexer": "ipython3",
      "version": "3.11.4"
    }
  },
  "nbformat": 4,
  "nbformat_minor": 0
}
