{
  "cells": [
    {
      "cell_type": "markdown",
      "metadata": {
        "colab_type": "text",
        "id": "view-in-github"
      },
      "source": [
        "<a href=\"https://colab.research.google.com/github/AnalyticsKnight/yemoonsaBigdata/blob/dev/src/P3_C1_PythonExam.ipynb\" target=\"_parent\"><img src=\"https://colab.research.google.com/assets/colab-badge.svg\" alt=\"Open In Colab\"/></a>"
      ]
    },
    {
      "cell_type": "markdown",
      "metadata": {
        "id": "CeSIU7NxqpAD"
      },
      "source": [
        "# **Chapter 1. 빅데이터분석기사 2회**"
      ]
    },
    {
      "cell_type": "markdown",
      "metadata": {
        "id": "MX3-XCZUqyfD"
      },
      "source": [
        "## 1. 필답형"
      ]
    },
    {
      "cell_type": "markdown",
      "metadata": {
        "id": "fCTuF6dRq1UE"
      },
      "source": [
        "## 2. 작업형 제1유형"
      ]
    },
    {
      "cell_type": "markdown",
      "metadata": {
        "id": "D1RRIF-l3Xyp"
      },
      "source": [
        "#### 000 소스 및 데이터 동기화"
      ]
    },
    {
      "cell_type": "code",
      "execution_count": null,
      "metadata": {
        "colab": {
          "base_uri": "https://localhost:8080/"
        },
        "id": "VqH3TusIsbzw",
        "outputId": "76ce849d-c9b3-4870-e1c0-97785397d8bd"
      },
      "outputs": [
        {
          "name": "stdout",
          "output_type": "stream",
          "text": [
            "Cloning into 'yemoonsaBigdata'...\n",
            "remote: Enumerating objects: 538, done.\u001b[K\n",
            "remote: Counting objects: 100% (175/175), done.\u001b[K\n",
            "remote: Compressing objects: 100% (131/131), done.\u001b[K\n",
            "remote: Total 538 (delta 90), reused 49 (delta 44), pack-reused 363\u001b[K\n",
            "Receiving objects: 100% (538/538), 10.63 MiB | 11.84 MiB/s, done.\n",
            "Resolving deltas: 100% (275/275), done.\n"
          ]
        }
      ],
      "source": [
        "!git clone https://github.com/AnalyticsKnight/yemoonsaBigdata/"
      ]
    },
    {
      "cell_type": "markdown",
      "metadata": {
        "id": "tMFQ7VQJrGq6"
      },
      "source": [
        "### (1) 첫번째 문제"
      ]
    },
    {
      "cell_type": "markdown",
      "metadata": {
        "id": "g8x3K0ieMP6B"
      },
      "source": [
        "#### 121-01 데이터 불러오기"
      ]
    },
    {
      "cell_type": "code",
      "execution_count": 1,
      "metadata": {
        "colab": {
          "base_uri": "https://localhost:8080/"
        },
        "id": "7K0PwF-2zWkn",
        "outputId": "42f2b6c7-b4ef-42e0-9bf7-b5cc3d4c9ce1"
      },
      "outputs": [
        {
          "name": "stdout",
          "output_type": "stream",
          "text": [
            "      CRIM    ZN  INDUS  CHAS    NOX     RM   AGE     DIS  RAD    TAX  \\\n",
            "0  0.00632  18.0   2.31   0.0  0.538  6.575  65.2  4.0900  1.0  296.0   \n",
            "1  0.02731   0.0   7.07   0.0  0.469  6.421  78.9  4.9671  2.0  242.0   \n",
            "2  0.02729   0.0   7.07   0.0  0.469  7.185  61.1  4.9671  2.0  242.0   \n",
            "3  0.03237   0.0   2.18   0.0  0.458  6.998  45.8  6.0622  3.0  222.0   \n",
            "4  0.06905   0.0   2.18   0.0  0.458  7.147  54.2  6.0622  3.0  222.0   \n",
            "\n",
            "   PTRATIO       B  LSTAT  \n",
            "0     15.3  396.90   4.98  \n",
            "1     17.8  396.90   9.14  \n",
            "2     17.8  392.83   4.03  \n",
            "3     18.7  394.63   2.94  \n",
            "4     18.7  396.90   5.33  \n"
          ]
        }
      ],
      "source": [
        "import pandas as pd\n",
        "\n",
        "df = pd.read_csv(\"../datasets/Part3/201_boston.csv\")\n",
        "print(df.head(5))"
      ]
    },
    {
      "cell_type": "code",
      "execution_count": 4,
      "metadata": {},
      "outputs": [],
      "source": [
        "temp = df.sort_values('CRIM', ascending=False)"
      ]
    },
    {
      "cell_type": "code",
      "execution_count": 6,
      "metadata": {},
      "outputs": [],
      "source": [
        "temp.iloc[:10] = temp.iloc[9]"
      ]
    },
    {
      "cell_type": "code",
      "execution_count": 9,
      "metadata": {},
      "outputs": [
        {
          "data": {
            "text/plain": [
              "5.843126099585063"
            ]
          },
          "execution_count": 9,
          "metadata": {},
          "output_type": "execute_result"
        }
      ],
      "source": [
        "temp[temp['AGE'] >= 80]['CRIM'].mean()"
      ]
    },
    {
      "cell_type": "markdown",
      "metadata": {
        "id": "ratnVcRpNgrj"
      },
      "source": [
        "#### 121-02 내림차순 정렬하기"
      ]
    },
    {
      "cell_type": "code",
      "execution_count": null,
      "metadata": {
        "colab": {
          "base_uri": "https://localhost:8080/"
        },
        "id": "vOUpGkcozin7",
        "outputId": "1b2e4477-a11f-449d-82bd-881c4e5e6466"
      },
      "outputs": [
        {
          "name": "stdout",
          "output_type": "stream",
          "text": [
            "        CRIM   ZN  INDUS  CHAS    NOX     RM    AGE     DIS   RAD    TAX  \\\n",
            "380  88.9762  0.0   18.1   0.0  0.671  6.968   91.9  1.4165  24.0  666.0   \n",
            "418  73.5341  0.0   18.1   0.0  0.679  5.957  100.0  1.8026  24.0  666.0   \n",
            "405  67.9208  0.0   18.1   0.0  0.693  5.683  100.0  1.4254  24.0  666.0   \n",
            "410  51.1358  0.0   18.1   0.0  0.597  5.757  100.0  1.4130  24.0  666.0   \n",
            "414  45.7461  0.0   18.1   0.0  0.693  4.519  100.0  1.6582  24.0  666.0   \n",
            "404  41.5292  0.0   18.1   0.0  0.693  5.531   85.4  1.6074  24.0  666.0   \n",
            "398  38.3518  0.0   18.1   0.0  0.693  5.453  100.0  1.4896  24.0  666.0   \n",
            "427  37.6619  0.0   18.1   0.0  0.679  6.202   78.7  1.8629  24.0  666.0   \n",
            "413  28.6558  0.0   18.1   0.0  0.597  5.155  100.0  1.5894  24.0  666.0   \n",
            "417  25.9406  0.0   18.1   0.0  0.679  5.304   89.1  1.6475  24.0  666.0   \n",
            "400  25.0461  0.0   18.1   0.0  0.693  5.987  100.0  1.5888  24.0  666.0   \n",
            "403  24.8017  0.0   18.1   0.0  0.693  5.349   96.0  1.7028  24.0  666.0   \n",
            "\n",
            "     PTRATIO       B  LSTAT  \n",
            "380     20.2  396.90  17.21  \n",
            "418     20.2   16.45  20.62  \n",
            "405     20.2  384.97  22.98  \n",
            "410     20.2    2.60  10.11  \n",
            "414     20.2   88.27  36.98  \n",
            "404     20.2  329.46  27.38  \n",
            "398     20.2  396.90  30.59  \n",
            "427     20.2   18.82  14.52  \n",
            "413     20.2  210.97  20.08  \n",
            "417     20.2  127.36  26.64  \n",
            "400     20.2  396.90  26.77  \n",
            "403     20.2  396.90  19.77  \n"
          ]
        }
      ],
      "source": [
        "df = df.sort_values(by='CRIM', ascending=False)\n",
        "print(df.head(12))"
      ]
    },
    {
      "cell_type": "markdown",
      "metadata": {
        "id": "w_do-YSSOCV0"
      },
      "source": [
        "#### 121-03 특정 위치 데이터 찾기"
      ]
    },
    {
      "cell_type": "code",
      "execution_count": null,
      "metadata": {
        "colab": {
          "base_uri": "https://localhost:8080/"
        },
        "id": "H5Co42wlzmP9",
        "outputId": "be5e77e0-1443-4226-c231-432a76e3304c"
      },
      "outputs": [
        {
          "name": "stdout",
          "output_type": "stream",
          "text": [
            "25.9406\n"
          ]
        }
      ],
      "source": [
        "crim_value = df.iloc[9, 0]\n",
        "print(crim_value)"
      ]
    },
    {
      "cell_type": "markdown",
      "metadata": {
        "id": "RmXWVcxsOJjf"
      },
      "source": [
        "#### 121-04 특정 위치 데이터 변경하기"
      ]
    },
    {
      "cell_type": "code",
      "execution_count": null,
      "metadata": {
        "colab": {
          "base_uri": "https://localhost:8080/"
        },
        "id": "JhCURG6VzsxU",
        "outputId": "3d6e3b8a-eff8-4d0a-fc49-01ee31c596c9"
      },
      "outputs": [
        {
          "name": "stdout",
          "output_type": "stream",
          "text": [
            "        CRIM   ZN  INDUS  CHAS    NOX     RM    AGE     DIS   RAD    TAX  \\\n",
            "380  25.9406  0.0   18.1   0.0  0.671  6.968   91.9  1.4165  24.0  666.0   \n",
            "418  25.9406  0.0   18.1   0.0  0.679  5.957  100.0  1.8026  24.0  666.0   \n",
            "405  25.9406  0.0   18.1   0.0  0.693  5.683  100.0  1.4254  24.0  666.0   \n",
            "410  25.9406  0.0   18.1   0.0  0.597  5.757  100.0  1.4130  24.0  666.0   \n",
            "414  25.9406  0.0   18.1   0.0  0.693  4.519  100.0  1.6582  24.0  666.0   \n",
            "404  25.9406  0.0   18.1   0.0  0.693  5.531   85.4  1.6074  24.0  666.0   \n",
            "398  25.9406  0.0   18.1   0.0  0.693  5.453  100.0  1.4896  24.0  666.0   \n",
            "427  25.9406  0.0   18.1   0.0  0.679  6.202   78.7  1.8629  24.0  666.0   \n",
            "413  25.9406  0.0   18.1   0.0  0.597  5.155  100.0  1.5894  24.0  666.0   \n",
            "417  25.9406  0.0   18.1   0.0  0.679  5.304   89.1  1.6475  24.0  666.0   \n",
            "400  25.0461  0.0   18.1   0.0  0.693  5.987  100.0  1.5888  24.0  666.0   \n",
            "403  24.8017  0.0   18.1   0.0  0.693  5.349   96.0  1.7028  24.0  666.0   \n",
            "\n",
            "     PTRATIO       B  LSTAT  \n",
            "380     20.2  396.90  17.21  \n",
            "418     20.2   16.45  20.62  \n",
            "405     20.2  384.97  22.98  \n",
            "410     20.2    2.60  10.11  \n",
            "414     20.2   88.27  36.98  \n",
            "404     20.2  329.46  27.38  \n",
            "398     20.2  396.90  30.59  \n",
            "427     20.2   18.82  14.52  \n",
            "413     20.2  210.97  20.08  \n",
            "417     20.2  127.36  26.64  \n",
            "400     20.2  396.90  26.77  \n",
            "403     20.2  396.90  19.77  \n"
          ]
        }
      ],
      "source": [
        "df.iloc[:10, 0] = crim_value\n",
        "print(df.head(12))"
      ]
    },
    {
      "cell_type": "code",
      "execution_count": null,
      "metadata": {
        "colab": {
          "base_uri": "https://localhost:8080/"
        },
        "id": "C1VfD102lb-q",
        "outputId": "20c97734-ec35-4a6e-b6d2-b9ccf078d0f4"
      },
      "outputs": [
        {
          "name": "stdout",
          "output_type": "stream",
          "text": [
            "25.9406\n",
            "       CRIM   ZN  INDUS  CHAS    NOX     RM    AGE     DIS   RAD    TAX  \\\n",
            "0   25.9406  0.0   18.1   0.0  0.671  6.968   91.9  1.4165  24.0  666.0   \n",
            "1   25.9406  0.0   18.1   0.0  0.679  5.957  100.0  1.8026  24.0  666.0   \n",
            "2   25.9406  0.0   18.1   0.0  0.693  5.683  100.0  1.4254  24.0  666.0   \n",
            "3   25.9406  0.0   18.1   0.0  0.597  5.757  100.0  1.4130  24.0  666.0   \n",
            "4   25.9406  0.0   18.1   0.0  0.693  4.519  100.0  1.6582  24.0  666.0   \n",
            "5   25.9406  0.0   18.1   0.0  0.693  5.531   85.4  1.6074  24.0  666.0   \n",
            "6   25.9406  0.0   18.1   0.0  0.693  5.453  100.0  1.4896  24.0  666.0   \n",
            "7   25.9406  0.0   18.1   0.0  0.679  6.202   78.7  1.8629  24.0  666.0   \n",
            "8   25.9406  0.0   18.1   0.0  0.597  5.155  100.0  1.5894  24.0  666.0   \n",
            "9   25.9406  0.0   18.1   0.0  0.679  5.304   89.1  1.6475  24.0  666.0   \n",
            "10  25.0461  0.0   18.1   0.0  0.693  5.987  100.0  1.5888  24.0  666.0   \n",
            "11  24.8017  0.0   18.1   0.0  0.693  5.349   96.0  1.7028  24.0  666.0   \n",
            "\n",
            "    PTRATIO       B  LSTAT  \n",
            "0      20.2  396.90  17.21  \n",
            "1      20.2   16.45  20.62  \n",
            "2      20.2  384.97  22.98  \n",
            "3      20.2    2.60  10.11  \n",
            "4      20.2   88.27  36.98  \n",
            "5      20.2  329.46  27.38  \n",
            "6      20.2  396.90  30.59  \n",
            "7      20.2   18.82  14.52  \n",
            "8      20.2  210.97  20.08  \n",
            "9      20.2  127.36  26.64  \n",
            "10     20.2  396.90  26.77  \n",
            "11     20.2  396.90  19.77  \n"
          ]
        }
      ],
      "source": [
        "## 참고 - loc함수를 사용하려면?\n",
        "df = pd.read_csv(\"/content/yemoonsaBigdata/datasets/Part3/201_boston.csv\")\n",
        "\n",
        "# reset_index를 해서 CRIM 내림차순으로 인덱스 번호를 매김\n",
        "df = df.sort_values('CRIM', ascending=False).reset_index(drop=True) \n",
        "crim_value = df.loc[9, 'CRIM']\n",
        "print(crim_value)\n",
        "\n",
        "df.loc[:9, 'CRIM'] = crim_value\n",
        "print(df.head(12))"
      ]
    },
    {
      "cell_type": "markdown",
      "metadata": {
        "id": "xmZ576ggOnpw"
      },
      "source": [
        "#### 121-05 조건부 평균 계산하기"
      ]
    },
    {
      "cell_type": "code",
      "execution_count": null,
      "metadata": {
        "colab": {
          "base_uri": "https://localhost:8080/"
        },
        "id": "63Nqcrga0M9s",
        "outputId": "df356830-2b25-47fa-d1ff-8924542f207a"
      },
      "outputs": [
        {
          "name": "stdout",
          "output_type": "stream",
          "text": [
            "5.759386625\n"
          ]
        }
      ],
      "source": [
        "rst_df = df[df['AGE'] >= 80]\n",
        "result = rst_df['CRIM'].mean()\n",
        "print(result)"
      ]
    },
    {
      "cell_type": "code",
      "execution_count": null,
      "metadata": {
        "colab": {
          "base_uri": "https://localhost:8080/"
        },
        "id": "NY7LBJXdkPzO",
        "outputId": "cd4ee20f-8fd8-4404-d8b8-0e5fa3e8e7c9"
      },
      "outputs": [
        {
          "name": "stdout",
          "output_type": "stream",
          "text": [
            "5.759386625\n"
          ]
        }
      ],
      "source": [
        "## 전체 풀이 코드\n",
        "\n",
        "import pandas as pd\n",
        "\n",
        "df = pd.read_csv(\"/content/yemoonsaBigdata/datasets/Part3/201_boston.csv\")\n",
        "\n",
        "df = df.sort_values('CRIM', ascending=False)\n",
        "crim_value = df.iloc[9, 0]\n",
        "df.iloc[:10, 0] = crim_value\n",
        "rst_df = df[df['AGE'] >= 80]\n",
        "\n",
        "result = rst_df['CRIM'].mean()\n",
        "\n",
        "print(result) # 최종 결과값만 print되도록 해야 합니다."
      ]
    },
    {
      "cell_type": "markdown",
      "metadata": {
        "id": "fA1Gkq1RrHrx"
      },
      "source": [
        "### (2) 두번째 문제"
      ]
    },
    {
      "cell_type": "markdown",
      "metadata": {
        "id": "oumyEu8mO9Ki"
      },
      "source": [
        "#### 122-01 데이터 불러오기"
      ]
    },
    {
      "cell_type": "code",
      "execution_count": 18,
      "metadata": {
        "colab": {
          "base_uri": "https://localhost:8080/"
        },
        "id": "8ImtqP-I-kwZ",
        "outputId": "6660eab5-e454-45a6-e1a7-945eb8cd5357"
      },
      "outputs": [
        {
          "name": "stdout",
          "output_type": "stream",
          "text": [
            "   longitude  latitude  housing_median_age  total_rooms  total_bedrooms  \\\n",
            "0    -122.23     37.88                41.0        880.0           129.0   \n",
            "1    -122.22     37.86                21.0       7099.0          1106.0   \n",
            "2    -122.24     37.85                52.0       1467.0           190.0   \n",
            "3    -122.25     37.85                52.0       1274.0           235.0   \n",
            "4    -122.25     37.85                52.0       1627.0           280.0   \n",
            "\n",
            "   population  households  median_income  median_house_value ocean_proximity  \n",
            "0       322.0       126.0         8.3252            452600.0        NEAR BAY  \n",
            "1      2401.0      1138.0         8.3014            358500.0        NEAR BAY  \n",
            "2       496.0       177.0         7.2574            352100.0        NEAR BAY  \n",
            "3       558.0       219.0         5.6431            341300.0        NEAR BAY  \n",
            "4       565.0       259.0         3.8462            342200.0        NEAR BAY  \n"
          ]
        }
      ],
      "source": [
        "import pandas as pd\n",
        "import numpy as np\n",
        "\n",
        "df = pd.read_csv(\"../datasets/Part3/202_housing.csv\")\n",
        "print(df.head())"
      ]
    },
    {
      "cell_type": "code",
      "execution_count": 19,
      "metadata": {},
      "outputs": [],
      "source": [
        "temp = df.iloc[:int(len(df) * 0.8)]"
      ]
    },
    {
      "cell_type": "code",
      "execution_count": 21,
      "metadata": {},
      "outputs": [
        {
          "data": {
            "text/plain": [
              "1.9751472916456692"
            ]
          },
          "execution_count": 21,
          "metadata": {},
          "output_type": "execute_result"
        }
      ],
      "source": [
        "np.abs(temp['total_bedrooms'].std() - temp['total_bedrooms'].replace(np.nan, temp['total_bedrooms'].median()).std())"
      ]
    },
    {
      "cell_type": "markdown",
      "metadata": {
        "id": "MSohHZtAQWgR"
      },
      "source": [
        "#### 122-02 데이터 추출하기"
      ]
    },
    {
      "cell_type": "code",
      "execution_count": null,
      "metadata": {
        "colab": {
          "base_uri": "https://localhost:8080/"
        },
        "id": "O6PG6isG_YCS",
        "outputId": "51d1618c-c97c-4fb0-aa9d-a384e34277e1"
      },
      "outputs": [
        {
          "name": "stdout",
          "output_type": "stream",
          "text": [
            "0         129.0\n",
            "1        1106.0\n",
            "2         190.0\n",
            "3         235.0\n",
            "4         280.0\n",
            "          ...  \n",
            "16507     599.0\n",
            "16508     331.0\n",
            "16509     411.0\n",
            "16510     941.0\n",
            "16511     417.0\n",
            "Name: total_bedrooms, Length: 16512, dtype: float64\n"
          ]
        }
      ],
      "source": [
        "value = int(len(df) * 0.8)\n",
        "rst_df = df.loc[:value-1, 'total_bedrooms']\n",
        "# rst_df = df.iloc[:value]['total_bedrooms']와 동일합니다. \n",
        "print(rst_df)"
      ]
    },
    {
      "cell_type": "markdown",
      "metadata": {
        "id": "fS-BzqaAQvla"
      },
      "source": [
        "#### 122-03 표준편차, 중앙값 계산하기"
      ]
    },
    {
      "cell_type": "code",
      "execution_count": null,
      "metadata": {
        "colab": {
          "base_uri": "https://localhost:8080/"
        },
        "id": "qag9Gur6BRV2",
        "outputId": "0c9cdccd-a66b-474e-fc68-f5b537e4380e"
      },
      "outputs": [
        {
          "name": "stdout",
          "output_type": "stream",
          "text": [
            "435.90057705252616 436.0\n"
          ]
        }
      ],
      "source": [
        "std1 = rst_df.std()\n",
        "med = rst_df.median()\n",
        "print(std1, med)"
      ]
    },
    {
      "cell_type": "markdown",
      "metadata": {
        "id": "Xvvfm_-VRYM5"
      },
      "source": [
        "#### 122-04 결측값 채우기 & 표준편차 계산하기"
      ]
    },
    {
      "cell_type": "code",
      "execution_count": null,
      "metadata": {
        "colab": {
          "base_uri": "https://localhost:8080/"
        },
        "id": "29NbrJ3qsfzi",
        "outputId": "1314c231-5a5d-4760-9a70-3cbd763c3b4f"
      },
      "outputs": [
        {
          "name": "stdout",
          "output_type": "stream",
          "text": [
            "433.9254297608805\n"
          ]
        }
      ],
      "source": [
        "rst_df_fillna = rst_df.fillna(med)\n",
        "std2 = rst_df_fillna.std()\n",
        "print(std2)"
      ]
    },
    {
      "cell_type": "markdown",
      "metadata": {
        "id": "CchneuaVRryU"
      },
      "source": [
        "#### 122-05 결과 출력하기"
      ]
    },
    {
      "cell_type": "code",
      "execution_count": null,
      "metadata": {
        "colab": {
          "base_uri": "https://localhost:8080/"
        },
        "id": "rdEEJr99sprH",
        "outputId": "a5ba8720-0d68-4d43-da27-733b9af0b7f4"
      },
      "outputs": [
        {
          "name": "stdout",
          "output_type": "stream",
          "text": [
            "1.9751472916456692\n"
          ]
        }
      ],
      "source": [
        "result = abs(std1 - std2)\n",
        "print(result)"
      ]
    },
    {
      "cell_type": "code",
      "execution_count": null,
      "metadata": {
        "colab": {
          "base_uri": "https://localhost:8080/"
        },
        "id": "5q6otfFjmv4N",
        "outputId": "1075bf5f-0c6f-4c13-b190-0a4e2c0fb6ff"
      },
      "outputs": [
        {
          "name": "stdout",
          "output_type": "stream",
          "text": [
            "1.9751472916456692\n"
          ]
        }
      ],
      "source": [
        "## 전체 풀이 코드\n",
        "\n",
        "import pandas as pd\n",
        "\n",
        "df = pd.read_csv(\"/content/yemoonsaBigdata/datasets/Part3/202_housing.csv\")\n",
        "\n",
        "value = int(len(df) * 0.8)\n",
        "rst_df = df.loc[:value-1, 'total_bedrooms']\n",
        "std1 = rst_df.std()\n",
        "med = rst_df.median()\n",
        "rst_df_fillna = rst_df.fillna(med)\n",
        "std2 = rst_df_fillna.std()\n",
        "\n",
        "result = abs(std1 - std2)\n",
        "\n",
        "print(result) # 최종 결과값만 print되도록 해야 합니다."
      ]
    },
    {
      "cell_type": "markdown",
      "metadata": {
        "id": "viy-W69otH00"
      },
      "source": [
        "### (3) 세번째 문제"
      ]
    },
    {
      "cell_type": "markdown",
      "metadata": {
        "id": "libiGVuqSKpn"
      },
      "source": [
        "#### 123-01 데이터 불러오기"
      ]
    },
    {
      "cell_type": "code",
      "execution_count": 22,
      "metadata": {
        "colab": {
          "base_uri": "https://localhost:8080/"
        },
        "id": "ecJBvEnatNZP",
        "outputId": "cb27b838-8176-41f3-e955-ac4d0ebadefe"
      },
      "outputs": [
        {
          "name": "stdout",
          "output_type": "stream",
          "text": [
            "   longitude  latitude  housing_median_age  total_rooms  total_bedrooms  \\\n",
            "0    -122.23     37.88                41.0        880.0           129.0   \n",
            "1    -122.22     37.86                21.0       7099.0          1106.0   \n",
            "2    -122.24     37.85                52.0       1467.0           190.0   \n",
            "3    -122.25     37.85                52.0       1274.0           235.0   \n",
            "4    -122.25     37.85                52.0       1627.0           280.0   \n",
            "\n",
            "   population  households  median_income  median_house_value ocean_proximity  \n",
            "0       322.0       126.0         8.3252            452600.0        NEAR BAY  \n",
            "1      2401.0      1138.0         8.3014            358500.0        NEAR BAY  \n",
            "2       496.0       177.0         7.2574            352100.0        NEAR BAY  \n",
            "3       558.0       219.0         5.6431            341300.0        NEAR BAY  \n",
            "4       565.0       259.0         3.8462            342200.0        NEAR BAY  \n"
          ]
        }
      ],
      "source": [
        "import pandas as pd\n",
        "\n",
        "df = pd.read_csv(\"../datasets/Part3/203_housing.csv\")\n",
        "print(df.head())"
      ]
    },
    {
      "cell_type": "code",
      "execution_count": 24,
      "metadata": {},
      "outputs": [
        {
          "data": {
            "text/plain": [
              "5607295.0"
            ]
          },
          "execution_count": 24,
          "metadata": {},
          "output_type": "execute_result"
        }
      ],
      "source": [
        "np.sum(df[(df['population'] > df['population'].mean() + df['population'].std() * 1.5) | (df['population'] < df['population'].mean() - df['population'].std() * 1.5)]['population'])"
      ]
    },
    {
      "cell_type": "markdown",
      "metadata": {
        "id": "GGsRqpLnSeaI"
      },
      "source": [
        "#### 123-02 평균, 표준편차 계산하기"
      ]
    },
    {
      "cell_type": "code",
      "execution_count": null,
      "metadata": {
        "colab": {
          "base_uri": "https://localhost:8080/"
        },
        "id": "-cJiRq_dtXzF",
        "outputId": "b955ca56-fb81-49ac-804e-a1e8809ee8eb"
      },
      "outputs": [
        {
          "name": "stdout",
          "output_type": "stream",
          "text": [
            "평균 :  1425.4767441860465\n",
            "표준편차 :  1132.462121765341\n"
          ]
        }
      ],
      "source": [
        "mean = df['population'].mean()\n",
        "std = df['population'].std()\n",
        "\n",
        "print(\"평균 : \", mean)\n",
        "print(\"표준편차 : \", std)"
      ]
    },
    {
      "cell_type": "markdown",
      "metadata": {
        "id": "4M1bwMQOS576"
      },
      "source": [
        "#### 123-03 이상값 임계치 계산하기"
      ]
    },
    {
      "cell_type": "code",
      "execution_count": null,
      "metadata": {
        "colab": {
          "base_uri": "https://localhost:8080/"
        },
        "id": "1YUYm7nftwdc",
        "outputId": "bb59fc21-78d8-4f1e-b9d4-6038b3a95afc"
      },
      "outputs": [
        {
          "name": "stdout",
          "output_type": "stream",
          "text": [
            "정상범위 최소값 :  -273.2164384619648\n",
            "정상범위 최대값 :  3124.169926834058\n"
          ]
        }
      ],
      "source": [
        "lower = mean - (std * 1.5)\n",
        "upper = mean + (std * 1.5)\n",
        "\n",
        "print(\"정상범위 최소값 : \", lower)\n",
        "print(\"정상범위 최대값 : \", upper)"
      ]
    },
    {
      "cell_type": "markdown",
      "metadata": {
        "id": "V3XXz_ZcTI2o"
      },
      "source": [
        "#### 123-04 이상값 데이터 추출하기"
      ]
    },
    {
      "cell_type": "code",
      "execution_count": null,
      "metadata": {
        "colab": {
          "base_uri": "https://localhost:8080/"
        },
        "id": "6B2h5EAgt9fZ",
        "outputId": "c99e6a5c-fc4f-458b-9689-3a348014a236"
      },
      "outputs": [
        {
          "name": "stdout",
          "output_type": "stream",
          "text": [
            "95       3469.0\n",
            "185      4367.0\n",
            "283      4985.0\n",
            "460      3337.0\n",
            "485      3276.0\n",
            "          ...  \n",
            "20543    3717.0\n",
            "20544    6330.0\n",
            "20563    6837.0\n",
            "20604    3265.0\n",
            "20629    6912.0\n",
            "Name: population, Length: 1207, dtype: float64\n"
          ]
        }
      ],
      "source": [
        "rst_df = df.loc[(df['population']<lower)|(df['population']>upper), 'population']\n",
        "print(rst_df)"
      ]
    },
    {
      "cell_type": "markdown",
      "metadata": {
        "id": "WQ52bjG4TSM1"
      },
      "source": [
        "#### 123-05 결과 출력하기"
      ]
    },
    {
      "cell_type": "code",
      "execution_count": null,
      "metadata": {
        "colab": {
          "base_uri": "https://localhost:8080/"
        },
        "id": "pGJ2pHlDuH7d",
        "outputId": "ca36700c-1d0c-484f-f994-9e3cd4322560"
      },
      "outputs": [
        {
          "name": "stdout",
          "output_type": "stream",
          "text": [
            "5607295.0\n"
          ]
        }
      ],
      "source": [
        "result = rst_df.sum()\n",
        "print(result) "
      ]
    },
    {
      "cell_type": "code",
      "execution_count": null,
      "metadata": {
        "colab": {
          "base_uri": "https://localhost:8080/"
        },
        "id": "EWMxT68y7LKW",
        "outputId": "14c42e46-75ad-4bab-d38e-e6d147ea20db"
      },
      "outputs": [
        {
          "name": "stdout",
          "output_type": "stream",
          "text": [
            "5607295.0\n"
          ]
        }
      ],
      "source": [
        "## 전체 풀이 코드\n",
        "\n",
        "import pandas as pd\n",
        "\n",
        "df = pd.read_csv(\"/content/yemoonsaBigdata/datasets/Part3/203_housing.csv\")\n",
        "\n",
        "mean = df['population'].mean()\n",
        "std = df['population'].std()\n",
        "lower = mean - (std * 1.5)\n",
        "upper = mean + (std * 1.5)\n",
        "rst_df = df.loc[(df['population']<lower)|(df['population']>upper), 'population']\n",
        "\n",
        "result = rst_df.sum()\n",
        "\n",
        "print(result) # 최종 결과값만 print되도록 해야 합니다."
      ]
    },
    {
      "cell_type": "markdown",
      "metadata": {
        "id": "ByCjNiHHq3_Y"
      },
      "source": [
        "## 3. 작업형 제2유형"
      ]
    },
    {
      "cell_type": "markdown",
      "metadata": {
        "id": "uXinBWrlrI-V"
      },
      "source": [
        "### (1) 사전 준비"
      ]
    },
    {
      "cell_type": "markdown",
      "metadata": {
        "id": "sz3H2FXlUG38"
      },
      "source": [
        "#### 131-01. 데이터 불러오기 "
      ]
    },
    {
      "cell_type": "code",
      "execution_count": 29,
      "metadata": {
        "id": "-7leAN-0qSWW"
      },
      "outputs": [],
      "source": [
        "# 출력을 원하실 경우 print() 함수 활용\n",
        "# 예시) print(df.head())\n",
        "\n",
        "# getcwd(), chdir() 등 작업 폴더 설정 불필요\n",
        "# 파일 경로 상 내부 드라이브 경로(C: 등) 접근 불가\n",
        "\n",
        "# 데이터 파일 읽기 예제\n",
        "import pandas as pd\n",
        "import numpy as np\n",
        "from sklearn.ensemble import RandomForestRegressor\n",
        "from sklearn.preprocessing import StandardScaler, LabelEncoder\n",
        "\n",
        "X_test = pd.read_csv(\"../datasets/Part3/204_x_test.csv\")\n",
        "X_train = pd.read_csv(\"../datasets/Part3/204_x_train.csv\")\n",
        "y_train = pd.read_csv(\"../datasets/Part3/204_y_train.csv\")\n",
        "\n",
        "COL_NUM = ['Customer_care_calls', 'Customer_rating', 'Cost_of_the_Product', 'Prior_purchases', 'Discount_offered', 'Weight_in_gms']\n",
        "COL_CAT = ['Warehouse_block', 'Mode_of_Shipment', 'Product_importance', 'Gender']\n",
        "\n",
        "X = pd.concat([X_train, X_test])\n",
        "\n",
        "for cat in COL_CAT:\n",
        "    le = LabelEncoder()\n",
        "    le.fit(X[cat])\n",
        "    X_train[cat] = le.transform(X_train[cat])\n",
        "    X_test[cat] = le.transform(X_test[cat])\n",
        "\n",
        "scaler = StandardScaler()\n",
        "scaler.fit(X[COL_NUM])\n",
        "X_train[COL_NUM] = scaler.transform(X_train[COL_NUM])\n",
        "X_test[COL_NUM] = scaler.transform(X_test[COL_NUM])\n",
        "\n",
        "rf = RandomForestRegressor()\n",
        "rf.fit(X_train, y_train['Reached.on.Time_Y.N'])\n",
        "pred = rf.predict(X_test)\n",
        "\n",
        "# 사용자 코딩\n",
        "\n",
        "# 답안 제출 참고\n",
        "# 아래 코드 예측변수와 수험번호를 개인별로 변경하여 활용\n",
        "pd.DataFrame({'index': X_test.index, 'y_pred': pred}).to_csv('003000000.csv', index=False)"
      ]
    },
    {
      "cell_type": "code",
      "execution_count": null,
      "metadata": {},
      "outputs": [],
      "source": []
    },
    {
      "cell_type": "code",
      "execution_count": null,
      "metadata": {
        "colab": {
          "base_uri": "https://localhost:8080/"
        },
        "id": "DImdJIIin_9B",
        "outputId": "2e795a7b-6fc7-4e58-c1ec-b4dcdee86972"
      },
      "outputs": [
        {
          "name": "stdout",
          "output_type": "stream",
          "text": [
            "      ID Warehouse_block Mode_of_Shipment  Customer_care_calls  \\\n",
            "0   9902               F             Ship                    3   \n",
            "1   9501               A             Ship                    4   \n",
            "2   6111               A             Ship                    4   \n",
            "3    588               F             Ship                    3   \n",
            "4  10806               F             Road                    5   \n",
            "\n",
            "   Customer_rating  Cost_of_the_Product  Prior_purchases Product_importance  \\\n",
            "0                5                  214                2             medium   \n",
            "1                2                  201                3             medium   \n",
            "2                2                  264                3                low   \n",
            "3                5                  194                2             medium   \n",
            "4                5                  269                5             medium   \n",
            "\n",
            "  Gender  Discount_offered  Weight_in_gms  \n",
            "0      F                 6           4578  \n",
            "1      F                 4           4613  \n",
            "2      M                10           5137  \n",
            "3      M                 4           3496  \n",
            "4      F                 3           1120  \n"
          ]
        }
      ],
      "source": [
        "print(X_train.head())"
      ]
    },
    {
      "cell_type": "code",
      "execution_count": null,
      "metadata": {
        "colab": {
          "base_uri": "https://localhost:8080/"
        },
        "id": "JjQTyejCoAMg",
        "outputId": "9d6b3aa2-fcb0-46aa-f61d-53c86f6e2451"
      },
      "outputs": [
        {
          "name": "stdout",
          "output_type": "stream",
          "text": [
            "      ID  Reached.on.Time_Y.N\n",
            "0   9902                    0\n",
            "1   9501                    0\n",
            "2   6111                    1\n",
            "3    588                    1\n",
            "4  10806                    0\n"
          ]
        }
      ],
      "source": [
        "print(y_train.head())"
      ]
    },
    {
      "cell_type": "code",
      "execution_count": null,
      "metadata": {
        "colab": {
          "base_uri": "https://localhost:8080/"
        },
        "id": "88DBjJ4boAXb",
        "outputId": "84158f57-df2b-493b-a723-7f6b1dfe0850"
      },
      "outputs": [
        {
          "name": "stdout",
          "output_type": "stream",
          "text": [
            "      ID Warehouse_block Mode_of_Shipment  Customer_care_calls  \\\n",
            "0   7007               C             Ship                    4   \n",
            "1   9793               D             Ship                    4   \n",
            "2   6593               C           Flight                    7   \n",
            "3  10527               A             Road                    4   \n",
            "4   6914               F             Ship                    5   \n",
            "\n",
            "   Customer_rating  Cost_of_the_Product  Prior_purchases Product_importance  \\\n",
            "0                1                  238                3               high   \n",
            "1                2                  245                3             medium   \n",
            "2                4                  272                4                low   \n",
            "3                1                  204                6                low   \n",
            "4                5                  256                5             medium   \n",
            "\n",
            "  Gender  Discount_offered  Weight_in_gms  \n",
            "0      F                 4           4910  \n",
            "1      M                 1           4731  \n",
            "2      M                 3           1805  \n",
            "3      M                 1           4943  \n",
            "4      M                 2           1693  \n"
          ]
        }
      ],
      "source": [
        "print(X_test.head())"
      ]
    },
    {
      "cell_type": "markdown",
      "metadata": {
        "id": "n0cKzCTdUYsF"
      },
      "source": [
        "### (2) 데이터 전처리"
      ]
    },
    {
      "cell_type": "markdown",
      "metadata": {
        "id": "4A7wDtBmoM86"
      },
      "source": [
        "#### 132-01. 데이터 확인하기"
      ]
    },
    {
      "cell_type": "code",
      "execution_count": null,
      "metadata": {
        "colab": {
          "base_uri": "https://localhost:8080/"
        },
        "id": "AyNRLHzDwAvB",
        "outputId": "bb9bffd1-60d9-415d-f8bf-4ab84da81e96"
      },
      "outputs": [
        {
          "name": "stdout",
          "output_type": "stream",
          "text": [
            "<class 'pandas.core.frame.DataFrame'>\n",
            "RangeIndex: 6599 entries, 0 to 6598\n",
            "Data columns (total 11 columns):\n",
            " #   Column               Non-Null Count  Dtype \n",
            "---  ------               --------------  ----- \n",
            " 0   ID                   6599 non-null   int64 \n",
            " 1   Warehouse_block      6599 non-null   object\n",
            " 2   Mode_of_Shipment     6599 non-null   object\n",
            " 3   Customer_care_calls  6599 non-null   int64 \n",
            " 4   Customer_rating      6599 non-null   int64 \n",
            " 5   Cost_of_the_Product  6599 non-null   int64 \n",
            " 6   Prior_purchases      6599 non-null   int64 \n",
            " 7   Product_importance   6599 non-null   object\n",
            " 8   Gender               6599 non-null   object\n",
            " 9   Discount_offered     6599 non-null   int64 \n",
            " 10  Weight_in_gms        6599 non-null   int64 \n",
            "dtypes: int64(7), object(4)\n",
            "memory usage: 567.2+ KB\n",
            "None\n"
          ]
        }
      ],
      "source": [
        "print(X_train.info())"
      ]
    },
    {
      "cell_type": "code",
      "execution_count": null,
      "metadata": {
        "colab": {
          "base_uri": "https://localhost:8080/"
        },
        "id": "KNEHnr-IoR4y",
        "outputId": "b0920459-70fd-4251-f741-ee0665d21386"
      },
      "outputs": [
        {
          "name": "stdout",
          "output_type": "stream",
          "text": [
            "<class 'pandas.core.frame.DataFrame'>\n",
            "RangeIndex: 6599 entries, 0 to 6598\n",
            "Data columns (total 2 columns):\n",
            " #   Column               Non-Null Count  Dtype\n",
            "---  ------               --------------  -----\n",
            " 0   ID                   6599 non-null   int64\n",
            " 1   Reached.on.Time_Y.N  6599 non-null   int64\n",
            "dtypes: int64(2)\n",
            "memory usage: 103.2 KB\n",
            "None\n"
          ]
        }
      ],
      "source": [
        "print(y_train.info())"
      ]
    },
    {
      "cell_type": "code",
      "execution_count": null,
      "metadata": {
        "colab": {
          "base_uri": "https://localhost:8080/"
        },
        "id": "9FAr0VQ-oUd3",
        "outputId": "8d8fcb86-57b3-4259-c848-9b1b4ba156a9"
      },
      "outputs": [
        {
          "name": "stdout",
          "output_type": "stream",
          "text": [
            "<class 'pandas.core.frame.DataFrame'>\n",
            "RangeIndex: 4400 entries, 0 to 4399\n",
            "Data columns (total 11 columns):\n",
            " #   Column               Non-Null Count  Dtype \n",
            "---  ------               --------------  ----- \n",
            " 0   ID                   4400 non-null   int64 \n",
            " 1   Warehouse_block      4400 non-null   object\n",
            " 2   Mode_of_Shipment     4400 non-null   object\n",
            " 3   Customer_care_calls  4400 non-null   int64 \n",
            " 4   Customer_rating      4400 non-null   int64 \n",
            " 5   Cost_of_the_Product  4400 non-null   int64 \n",
            " 6   Prior_purchases      4400 non-null   int64 \n",
            " 7   Product_importance   4400 non-null   object\n",
            " 8   Gender               4400 non-null   object\n",
            " 9   Discount_offered     4400 non-null   int64 \n",
            " 10  Weight_in_gms        4400 non-null   int64 \n",
            "dtypes: int64(7), object(4)\n",
            "memory usage: 378.2+ KB\n",
            "None\n"
          ]
        }
      ],
      "source": [
        "print(X_test.info())"
      ]
    },
    {
      "cell_type": "markdown",
      "metadata": {
        "id": "Ur10Y2OzU4D8"
      },
      "source": [
        "#### 132-02. 변수별 결측치 수 확인"
      ]
    },
    {
      "cell_type": "code",
      "execution_count": null,
      "metadata": {
        "colab": {
          "base_uri": "https://localhost:8080/"
        },
        "id": "DjjBiSkJGxXF",
        "outputId": "82e56384-f17f-43e3-d7a9-b849c1fd99f9"
      },
      "outputs": [
        {
          "data": {
            "text/plain": [
              "ID                     0\n",
              "Warehouse_block        0\n",
              "Mode_of_Shipment       0\n",
              "Customer_care_calls    0\n",
              "Customer_rating        0\n",
              "Cost_of_the_Product    0\n",
              "Prior_purchases        0\n",
              "Product_importance     0\n",
              "Gender                 0\n",
              "Discount_offered       0\n",
              "Weight_in_gms          0\n",
              "dtype: int64"
            ]
          },
          "execution_count": 28,
          "metadata": {},
          "output_type": "execute_result"
        }
      ],
      "source": [
        "X_train.isnull().sum()"
      ]
    },
    {
      "cell_type": "code",
      "execution_count": null,
      "metadata": {
        "colab": {
          "base_uri": "https://localhost:8080/"
        },
        "id": "owolq7g2ohii",
        "outputId": "3d2e1f1f-30a4-485d-c35b-22cbc74bc475"
      },
      "outputs": [
        {
          "data": {
            "text/plain": [
              "ID                     0\n",
              "Warehouse_block        0\n",
              "Mode_of_Shipment       0\n",
              "Customer_care_calls    0\n",
              "Customer_rating        0\n",
              "Cost_of_the_Product    0\n",
              "Prior_purchases        0\n",
              "Product_importance     0\n",
              "Gender                 0\n",
              "Discount_offered       0\n",
              "Weight_in_gms          0\n",
              "dtype: int64"
            ]
          },
          "execution_count": 29,
          "metadata": {},
          "output_type": "execute_result"
        }
      ],
      "source": [
        "X_test.isnull().sum()"
      ]
    },
    {
      "cell_type": "code",
      "execution_count": null,
      "metadata": {
        "colab": {
          "base_uri": "https://localhost:8080/"
        },
        "id": "6U28K2xtokiQ",
        "outputId": "6b32a5b4-be36-44d9-f70d-05e870811bb5"
      },
      "outputs": [
        {
          "data": {
            "text/plain": [
              "ID                     0\n",
              "Reached.on.Time_Y.N    0\n",
              "dtype: int64"
            ]
          },
          "execution_count": 30,
          "metadata": {},
          "output_type": "execute_result"
        }
      ],
      "source": [
        "y_train.isnull().sum()"
      ]
    },
    {
      "cell_type": "markdown",
      "metadata": {
        "id": "a8-tZI-iXRec"
      },
      "source": [
        "#### 132-03. 변수 구분"
      ]
    },
    {
      "cell_type": "code",
      "execution_count": null,
      "metadata": {
        "id": "n1fxaZUmXJS5"
      },
      "outputs": [],
      "source": [
        "# ID: 불필요한 변수\n",
        "# Customer_care_calls, Customer_rating, Cost_of_the_Product, Prior_purchases, Discount_offered, Weight_in_gms: 수치형 변수\n",
        "# Warehouse_block, Mode_of_Shipment, Product_importance, Gender: 범주형 변수\n",
        "# Reached.on.Time_Y.N: 종속 변수\n",
        "\n",
        "COL_DEL = ['ID']\n",
        "COL_NUM = ['Customer_care_calls', 'Customer_rating', 'Cost_of_the_Product', 'Prior_purchases', \\\n",
        "           'Discount_offered', 'Weight_in_gms']\n",
        "COL_CAT = ['Warehouse_block', 'Mode_of_Shipment', 'Product_importance', 'Gender']\n",
        "COL_Y = ['Reached.on.Time_Y.N']"
      ]
    },
    {
      "cell_type": "markdown",
      "metadata": {
        "id": "sc92KkF_pkoq"
      },
      "source": [
        "### (3) 데이터 모형 구축"
      ]
    },
    {
      "cell_type": "markdown",
      "metadata": {
        "id": "LzVxQc6aV9aK"
      },
      "source": [
        "#### 133-01. 데이터 분할"
      ]
    },
    {
      "cell_type": "code",
      "execution_count": null,
      "metadata": {
        "id": "WZKUBo7cb6z7"
      },
      "outputs": [],
      "source": [
        "from sklearn.model_selection import train_test_split\n",
        "X_tr, X_val, y_tr, y_val = train_test_split(X_train[COL_NUM+COL_CAT]\n",
        "                                            , y_train[COL_Y].values.ravel()\n",
        "                                            , test_size=0.3\n",
        "                                            , stratify=y_train[COL_Y].values.ravel())"
      ]
    },
    {
      "cell_type": "code",
      "execution_count": null,
      "metadata": {
        "colab": {
          "base_uri": "https://localhost:8080/"
        },
        "id": "Te6Yji0MqPfs",
        "outputId": "584dd27d-65dc-495f-8417-0e20a6fadb86"
      },
      "outputs": [
        {
          "name": "stdout",
          "output_type": "stream",
          "text": [
            "      Customer_care_calls  Customer_rating  Cost_of_the_Product  \\\n",
            "1229                    4                3                  273   \n",
            "5911                    3                3                  192   \n",
            "4803                    4                5                  243   \n",
            "6331                    3                4                  180   \n",
            "5237                    6                2                  137   \n",
            "\n",
            "      Prior_purchases  Discount_offered  Weight_in_gms Warehouse_block  \\\n",
            "1229                2                43           3462               F   \n",
            "5911                3                 1           4180               F   \n",
            "4803                3                 2           4909               A   \n",
            "6331                3                 2           5659               C   \n",
            "5237               10                 5           4510               C   \n",
            "\n",
            "     Mode_of_Shipment Product_importance Gender  \n",
            "1229             Ship               high      M  \n",
            "5911             Ship                low      F  \n",
            "4803             Ship                low      F  \n",
            "6331             Ship                low      M  \n",
            "5237             Road                low      F  \n"
          ]
        }
      ],
      "source": [
        "print(X_tr.head())"
      ]
    },
    {
      "cell_type": "code",
      "execution_count": null,
      "metadata": {
        "colab": {
          "base_uri": "https://localhost:8080/"
        },
        "id": "gpUk0RFhqRUf",
        "outputId": "5a2ef00d-304c-45a8-8ef2-11fff8b89917"
      },
      "outputs": [
        {
          "name": "stdout",
          "output_type": "stream",
          "text": [
            "[1 1 0 ... 0 0 1]\n"
          ]
        }
      ],
      "source": [
        "print(y_tr)"
      ]
    },
    {
      "cell_type": "markdown",
      "metadata": {
        "id": "2yL_kzKPWqN7"
      },
      "source": [
        "#### 133-02. 수치형 변수 - 데이터 스케일링 "
      ]
    },
    {
      "cell_type": "code",
      "execution_count": null,
      "metadata": {
        "id": "yoF77ZSvIpkj"
      },
      "outputs": [],
      "source": [
        "from sklearn.preprocessing import StandardScaler\n",
        "\n",
        "scaler = StandardScaler()\n",
        "scaler.fit(X_tr[COL_NUM])\n",
        "\n",
        "X_tr[COL_NUM]   = scaler.transform(X_tr[COL_NUM])\n",
        "X_val[COL_NUM]  = scaler.transform(X_val[COL_NUM])\n",
        "X_test[COL_NUM] = scaler.transform(X_test[COL_NUM])"
      ]
    },
    {
      "cell_type": "code",
      "execution_count": null,
      "metadata": {
        "colab": {
          "base_uri": "https://localhost:8080/"
        },
        "id": "BCxl8byWqfdt",
        "outputId": "01a386d6-e24e-4a44-8805-f2f11fc76c1b"
      },
      "outputs": [
        {
          "name": "stdout",
          "output_type": "stream",
          "text": [
            "      Customer_care_calls  Customer_rating  Cost_of_the_Product  \\\n",
            "1229            -0.051519         0.012806             1.315600   \n",
            "5911            -0.932880         0.012806            -0.360199   \n",
            "4803            -0.051519         1.421203             0.694934   \n",
            "6331            -0.932880         0.717004            -0.608465   \n",
            "5237             1.711202        -0.691392            -1.498087   \n",
            "\n",
            "      Prior_purchases  Discount_offered  Weight_in_gms  \n",
            "1229        -1.024186          1.851550      -0.108082  \n",
            "5911        -0.370862         -0.766447       0.332449  \n",
            "4803        -0.370862         -0.704114       0.779729  \n",
            "6331        -0.370862         -0.704114       1.239894  \n",
            "5237         4.202400         -0.517114       0.534921  \n"
          ]
        }
      ],
      "source": [
        "print(X_tr[COL_NUM].head())"
      ]
    },
    {
      "cell_type": "markdown",
      "metadata": {
        "id": "PWZvA0a1Ybz9"
      },
      "source": [
        "#### 133-03. 범주형 변수 - 데이터 인코딩"
      ]
    },
    {
      "cell_type": "code",
      "execution_count": null,
      "metadata": {
        "colab": {
          "base_uri": "https://localhost:8080/"
        },
        "id": "DWreV1NUctYJ",
        "outputId": "e28546ad-9999-4b31-9d7c-c6593d386452"
      },
      "outputs": [
        {
          "name": "stdout",
          "output_type": "stream",
          "text": [
            "Warehouse_block\n",
            "['A' 'B' 'C' 'D' 'F']\n",
            "\n",
            "\n",
            "Mode_of_Shipment\n",
            "['Flight' 'Road' 'Ship']\n",
            "\n",
            "\n",
            "Product_importance\n",
            "['high' 'low' 'medium']\n",
            "\n",
            "\n",
            "Gender\n",
            "['F' 'M']\n",
            "\n",
            "\n"
          ]
        }
      ],
      "source": [
        "from sklearn.preprocessing import LabelEncoder\n",
        "\n",
        "X = pd.concat([X_train[COL_CAT], X_test[COL_CAT]])\n",
        "\n",
        "for col in COL_CAT:\n",
        "  le = LabelEncoder()\n",
        "  le.fit(X[col])\n",
        "  X_tr[col] = le.transform(X_tr[col])\n",
        "  X_val[col] = le.transform(X_val[col])\n",
        "  X_test[col] = le.transform(X_test[col])\n",
        "\n",
        "  # 각 변수의 클래스 확인\n",
        "  print(col)\n",
        "  print(le.classes_)\n",
        "  print('\\n')"
      ]
    },
    {
      "cell_type": "code",
      "execution_count": null,
      "metadata": {
        "colab": {
          "base_uri": "https://localhost:8080/"
        },
        "id": "okHx1LC7qrem",
        "outputId": "069f0e2c-05c2-468a-f4a0-c236245513b4"
      },
      "outputs": [
        {
          "name": "stdout",
          "output_type": "stream",
          "text": [
            "      Warehouse_block  Mode_of_Shipment  Product_importance  Gender\n",
            "1229                4                 2                   0       1\n",
            "5911                4                 2                   1       0\n",
            "4803                0                 2                   1       0\n",
            "6331                2                 2                   1       1\n",
            "5237                2                 1                   1       0\n"
          ]
        }
      ],
      "source": [
        "print(X_tr[COL_CAT].head())"
      ]
    },
    {
      "cell_type": "markdown",
      "metadata": {
        "id": "B8b_ukwEYmiP"
      },
      "source": [
        "#### 333-04. 모형 학습"
      ]
    },
    {
      "cell_type": "code",
      "execution_count": null,
      "metadata": {
        "colab": {
          "base_uri": "https://localhost:8080/"
        },
        "id": "hMdBiKgrfGjl",
        "outputId": "b036061d-a1ff-42fe-a5b9-665f1160ea01"
      },
      "outputs": [
        {
          "data": {
            "text/plain": [
              "XGBClassifier(random_state=123)"
            ]
          },
          "execution_count": 39,
          "metadata": {},
          "output_type": "execute_result"
        }
      ],
      "source": [
        "## 1) 랜덤 포레스트\n",
        "from sklearn.ensemble import RandomForestClassifier\n",
        "modelRF = RandomForestClassifier(random_state=123)\n",
        "modelRF.fit(X_tr, y_tr)\n",
        "\n",
        "## 2) XGBoost\n",
        "from xgboost import XGBClassifier\n",
        "modelXGB = XGBClassifier(random_state=123)\n",
        "modelXGB.fit(X_tr, y_tr)"
      ]
    },
    {
      "cell_type": "markdown",
      "metadata": {
        "id": "fwI-gmIlqzGL"
      },
      "source": [
        "### (4) 데이터 모형 평가"
      ]
    },
    {
      "cell_type": "markdown",
      "metadata": {
        "id": "CKCTv87qZ9ku"
      },
      "source": [
        "#### 134-01. 검증 데이터로 예측값 생성"
      ]
    },
    {
      "cell_type": "code",
      "execution_count": null,
      "metadata": {
        "id": "bxU9bviKfSTY"
      },
      "outputs": [],
      "source": [
        "y_val_predRF = modelRF.predict_proba(X_val)[:, 1]\n",
        "y_val_predXGB = modelXGB.predict_proba(X_val)[:, 1]"
      ]
    },
    {
      "cell_type": "markdown",
      "metadata": {
        "id": "oqpqaQesx9ws"
      },
      "source": [
        "#### 134-02. 평가지표 구하기"
      ]
    },
    {
      "cell_type": "code",
      "execution_count": null,
      "metadata": {
        "colab": {
          "base_uri": "https://localhost:8080/"
        },
        "id": "UkuDsadFx9L9",
        "outputId": "e322c606-b569-429f-d3bd-2b96c5e0c169"
      },
      "outputs": [
        {
          "name": "stdout",
          "output_type": "stream",
          "text": [
            "Random Forest: \t 0.7245434864657413\n",
            "XGBoost: \t 0.7366019744793456\n"
          ]
        }
      ],
      "source": [
        "## 답안 채점 기준인 roc_auc 사용\n",
        "from sklearn.metrics import roc_auc_score\n",
        "\n",
        "scoreRF = roc_auc_score(y_val, y_val_predRF)\n",
        "scoreXGB = roc_auc_score(y_val, y_val_predXGB)\n",
        "\n",
        "print('Random Forest: \\t', scoreRF)\n",
        "print('XGBoost: \\t', scoreXGB)"
      ]
    },
    {
      "cell_type": "markdown",
      "metadata": {
        "id": "pe-qES9-_GNJ"
      },
      "source": [
        "#### 134-03. 학습, 검증 성능 확인 함수"
      ]
    },
    {
      "cell_type": "code",
      "execution_count": null,
      "metadata": {
        "id": "m11wob6-_Fve"
      },
      "outputs": [],
      "source": [
        "def get_scores(model, X_tr, X_val, y_tr, y_val):\n",
        "\n",
        "  y_tr_pred = model.predict_proba(X_tr)[:, 1]\n",
        "  y_val_pred = model.predict_proba(X_val)[:, 1]\n",
        "  tr_score = roc_auc_score(y_tr, y_tr_pred)\n",
        "  val_score = roc_auc_score(y_val, y_val_pred)\n",
        "\n",
        "  return f'train: {round(tr_score, 4)}, valid: {round(val_score, 4)}'"
      ]
    },
    {
      "cell_type": "code",
      "execution_count": null,
      "metadata": {
        "colab": {
          "base_uri": "https://localhost:8080/"
        },
        "id": "o4rtOKEIrLx5",
        "outputId": "1ccdd5ec-ae58-4fb5-afa2-6af95ac9076b"
      },
      "outputs": [
        {
          "name": "stdout",
          "output_type": "stream",
          "text": [
            "Random Forest \t- train: 1.0, valid: 0.7245\n",
            "XGBoost \t- train: 0.8161, valid: 0.7366\n"
          ]
        }
      ],
      "source": [
        "print('Random Forest \\t-', get_scores(modelRF, X_tr, X_val, y_tr, y_val))\n",
        "print('XGBoost \\t-', get_scores(modelXGB, X_tr, X_val, y_tr, y_val))"
      ]
    },
    {
      "cell_type": "markdown",
      "metadata": {
        "id": "HEgW55f73aVo"
      },
      "source": [
        "#### 134-04. 하이퍼 파라미터 튜닝"
      ]
    },
    {
      "cell_type": "code",
      "execution_count": null,
      "metadata": {
        "colab": {
          "base_uri": "https://localhost:8080/"
        },
        "id": "8VZdGxC13d4o",
        "outputId": "3fe07e09-a95c-4661-9b14-7e52714ff924"
      },
      "outputs": [
        {
          "name": "stdout",
          "output_type": "stream",
          "text": [
            "XGBoost2 \t- train: 0.7744, valid: 0.7464\n",
            "XGBoost3 \t- train: 0.836, valid: 0.7363\n",
            "XGBoost4 \t- train: 0.7822, valid: 0.7446\n",
            "XGBoost5 \t- train: 0.8555, valid: 0.7375\n"
          ]
        }
      ],
      "source": [
        "modelXGB2 = XGBClassifier(n_estimators=30, max_depth=3, min_child_weight=1, random_state=123)\n",
        "modelXGB2.fit(X_tr, y_tr)\n",
        "\n",
        "modelXGB3 = XGBClassifier(n_estimators=30, max_depth=5, min_child_weight=1, random_state=123)\n",
        "modelXGB3.fit(X_tr, y_tr)\n",
        "\n",
        "modelXGB4 = XGBClassifier(n_estimators=50, max_depth=3, min_child_weight=1, random_state=123)\n",
        "modelXGB4.fit(X_tr, y_tr)\n",
        "\n",
        "modelXGB5 = XGBClassifier(n_estimators=50, max_depth=5, min_child_weight=1, random_state=123)\n",
        "modelXGB5.fit(X_tr, y_tr)\n",
        "\n",
        "print('XGBoost2 \\t-', get_scores(modelXGB2, X_tr, X_val, y_tr, y_val))\n",
        "print('XGBoost3 \\t-', get_scores(modelXGB3, X_tr, X_val, y_tr, y_val))\n",
        "print('XGBoost4 \\t-', get_scores(modelXGB4, X_tr, X_val, y_tr, y_val))\n",
        "print('XGBoost5 \\t-', get_scores(modelXGB5, X_tr, X_val, y_tr, y_val))"
      ]
    },
    {
      "cell_type": "markdown",
      "metadata": {
        "id": "BXJcXN2l3Too"
      },
      "source": [
        "#### 134-05. 최종 결과값 생성"
      ]
    },
    {
      "cell_type": "code",
      "execution_count": null,
      "metadata": {
        "colab": {
          "base_uri": "https://localhost:8080/"
        },
        "id": "vZ6Pw65fg-56",
        "outputId": "26b342f2-324a-45e9-c335-f0dc09d8911e"
      },
      "outputs": [
        {
          "name": "stdout",
          "output_type": "stream",
          "text": [
            "      ID      pred\n",
            "0   7007  0.479245\n",
            "1   9793  0.451238\n",
            "2   6593  0.478874\n",
            "3  10527  0.409022\n",
            "4   6914  0.486240\n"
          ]
        }
      ],
      "source": [
        "pred = modelXGB2.predict_proba(X_test[COL_NUM+COL_CAT])[:, 1]\n",
        "result = pd.DataFrame({'ID': X_test.ID, 'pred': pred})\n",
        "print(result.head())"
      ]
    },
    {
      "cell_type": "code",
      "execution_count": null,
      "metadata": {
        "id": "iHHC3_hQhitF"
      },
      "outputs": [],
      "source": [
        "## 최종 결과 확인 후 to_csv 함수로 제출\n",
        "# result.to_csv('003000000.csv', index=False)"
      ]
    }
  ],
  "metadata": {
    "colab": {
      "include_colab_link": true,
      "provenance": []
    },
    "kernelspec": {
      "display_name": "Python 3",
      "name": "python3"
    },
    "language_info": {
      "codemirror_mode": {
        "name": "ipython",
        "version": 3
      },
      "file_extension": ".py",
      "mimetype": "text/x-python",
      "name": "python",
      "nbconvert_exporter": "python",
      "pygments_lexer": "ipython3",
      "version": "3.11.4"
    }
  },
  "nbformat": 4,
  "nbformat_minor": 0
}
