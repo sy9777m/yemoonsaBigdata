{
 "cells": [
  {
   "cell_type": "code",
   "execution_count": 1,
   "metadata": {},
   "outputs": [],
   "source": [
    "import pandas as pd\n",
    "import numpy as np"
   ]
  },
  {
   "cell_type": "code",
   "execution_count": 2,
   "metadata": {},
   "outputs": [],
   "source": [
    "data = pd.read_csv('./datasets/Part2/iris.csv')"
   ]
  },
  {
   "cell_type": "code",
   "execution_count": 3,
   "metadata": {},
   "outputs": [
    {
     "data": {
      "text/plain": [
       "species\n",
       "setosa        0.3\n",
       "versicolor    1.5\n",
       "virginica     2.3\n",
       "Name: petal_width, dtype: float64"
      ]
     },
     "execution_count": 3,
     "metadata": {},
     "output_type": "execute_result"
    }
   ],
   "source": [
    "data.groupby('species').quantile(0.75)['petal_width']"
   ]
  },
  {
   "cell_type": "code",
   "execution_count": 4,
   "metadata": {},
   "outputs": [
    {
     "data": {
      "text/plain": [
       "1.9999999999999998"
      ]
     },
     "execution_count": 4,
     "metadata": {},
     "output_type": "execute_result"
    }
   ],
   "source": [
    "answer_1_01 = 2.3 - 0.3\n",
    "answer_1_01"
   ]
  },
  {
   "cell_type": "code",
   "execution_count": 5,
   "metadata": {},
   "outputs": [
    {
     "data": {
      "text/plain": [
       "5.2"
      ]
     },
     "execution_count": 5,
     "metadata": {},
     "output_type": "execute_result"
    }
   ],
   "source": [
    "answer_1_02 = data['sepal_length'].drop_duplicates().sort_values().iloc[9]\n",
    "answer_1_02"
   ]
  },
  {
   "cell_type": "code",
   "execution_count": 6,
   "metadata": {},
   "outputs": [
    {
     "data": {
      "text/plain": [
       "30"
      ]
     },
     "execution_count": 6,
     "metadata": {},
     "output_type": "execute_result"
    }
   ],
   "source": [
    "train_data = data['sepal_length'].sort_values(ascending=False).iloc[:100]\n",
    "answer_1_03 = int(train_data.std() * 50)\n",
    "answer_1_03"
   ]
  },
  {
   "cell_type": "code",
   "execution_count": 7,
   "metadata": {},
   "outputs": [
    {
     "data": {
      "text/plain": [
       "array(['setosa', 'versicolor', 'virginica'], dtype=object)"
      ]
     },
     "execution_count": 7,
     "metadata": {},
     "output_type": "execute_result"
    }
   ],
   "source": [
    "data['species'].unique()"
   ]
  },
  {
   "cell_type": "code",
   "execution_count": 8,
   "metadata": {},
   "outputs": [
    {
     "data": {
      "text/plain": [
       "9.669999999999998"
      ]
     },
     "execution_count": 8,
     "metadata": {},
     "output_type": "execute_result"
    }
   ],
   "source": [
    "answer_1_04 = data[data['species'] == 'setosa'].sort_values('petal_length')[:10]['petal_length'].mean() + data[data['species'] == 'versicolor'].sort_values('petal_length')[:10]['petal_length'].mean() + data[data['species'] == 'virginica'].sort_values('petal_length')[:10]['petal_length'].mean()\n",
    "answer_1_04"
   ]
  },
  {
   "cell_type": "code",
   "execution_count": 9,
   "metadata": {},
   "outputs": [
    {
     "data": {
      "text/plain": [
       "6"
      ]
     },
     "execution_count": 9,
     "metadata": {},
     "output_type": "execute_result"
    }
   ],
   "source": [
    "answer_1_05 = len(data[(data['sepal_length'] >= (data['sepal_length'].mean() + data['sepal_length'].std() * 2)) & (data['sepal_length'] >= (data['sepal_length'].mean() - data['sepal_length'].std() * 2))])\n",
    "answer_1_05"
   ]
  },
  {
   "cell_type": "code",
   "execution_count": 35,
   "metadata": {},
   "outputs": [],
   "source": [
    "data_2 = pd.read_csv('./datasets/Part2/wine.csv')"
   ]
  },
  {
   "cell_type": "code",
   "execution_count": 36,
   "metadata": {},
   "outputs": [],
   "source": [
    "data_2_01 = data_2.dropna(subset=['total_phenols'])"
   ]
  },
  {
   "cell_type": "code",
   "execution_count": 37,
   "metadata": {},
   "outputs": [
    {
     "name": "stderr",
     "output_type": "stream",
     "text": [
      "/var/folders/yv/g128956j6vx7_4d8rqcw8ljm0000gn/T/ipykernel_16970/2861855862.py:1: SettingWithCopyWarning: \n",
      "A value is trying to be set on a copy of a slice from a DataFrame.\n",
      "Try using .loc[row_indexer,col_indexer] = value instead\n",
      "\n",
      "See the caveats in the documentation: https://pandas.pydata.org/pandas-docs/stable/user_guide/indexing.html#returning-a-view-versus-a-copy\n",
      "  data_2_01['alcalinity_of_ash'] = data_2_01['alcalinity_of_ash'].replace(np.nan, data_2_01['alcalinity_of_ash'].mean())\n"
     ]
    }
   ],
   "source": [
    "data_2_01['alcalinity_of_ash'] = data_2_01['alcalinity_of_ash'].replace(np.nan, data_2_01['alcalinity_of_ash'].mean())"
   ]
  },
  {
   "cell_type": "code",
   "execution_count": 38,
   "metadata": {},
   "outputs": [
    {
     "data": {
      "text/plain": [
       "19.39225806451613"
      ]
     },
     "execution_count": 38,
     "metadata": {},
     "output_type": "execute_result"
    }
   ],
   "source": [
    "answer_2_01 = data_2_01['alcalinity_of_ash'].mean()\n",
    "answer_2_01"
   ]
  },
  {
   "cell_type": "code",
   "execution_count": 39,
   "metadata": {},
   "outputs": [],
   "source": [
    "temp = data_2[(data_2['alcohol'] >= data_2['alcohol'].mean()) & (data_2['color_intensity'] >= data_2['color_intensity'].mean())]"
   ]
  },
  {
   "cell_type": "code",
   "execution_count": 40,
   "metadata": {},
   "outputs": [],
   "source": [
    "answer_2_02 = 1"
   ]
  },
  {
   "cell_type": "code",
   "execution_count": 41,
   "metadata": {},
   "outputs": [
    {
     "name": "stderr",
     "output_type": "stream",
     "text": [
      "/var/folders/yv/g128956j6vx7_4d8rqcw8ljm0000gn/T/ipykernel_16970/1988402147.py:1: UserWarning: Boolean Series key will be reindexed to match DataFrame index.\n",
      "  answer_2_03 = np.abs(data_2[data_2['class'] == 1]['ash'].mean() - data_2.dropna()[data_2['class'] == 1]['ash'].mean())\n"
     ]
    },
    {
     "data": {
      "text/plain": [
       "0.003093817140128685"
      ]
     },
     "execution_count": 41,
     "metadata": {},
     "output_type": "execute_result"
    }
   ],
   "source": [
    "answer_2_03 = np.abs(data_2[data_2['class'] == 1]['ash'].mean() - data_2.dropna()[data_2['class'] == 1]['ash'].mean())\n",
    "answer_2_03"
   ]
  },
  {
   "cell_type": "code",
   "execution_count": 45,
   "metadata": {},
   "outputs": [],
   "source": [
    "data_2_04 = data_2.copy()\n",
    "data_2_04.iloc[:20] = data_2_04.sort_values('alcohol', ascending=False).iloc[19]"
   ]
  },
  {
   "cell_type": "code",
   "execution_count": 48,
   "metadata": {},
   "outputs": [
    {
     "data": {
      "text/plain": [
       "12.993825503355705"
      ]
     },
     "execution_count": 48,
     "metadata": {},
     "output_type": "execute_result"
    }
   ],
   "source": [
    "answer_2_04 = data_2_04[data_2_04['proanthocyanins'] <= 2]['alcohol'].mean()\n",
    "answer_2_04"
   ]
  },
  {
   "cell_type": "code",
   "execution_count": 50,
   "metadata": {},
   "outputs": [
    {
     "data": {
      "text/plain": [
       "68.5"
      ]
     },
     "execution_count": 50,
     "metadata": {},
     "output_type": "execute_result"
    }
   ],
   "source": [
    "answer_2_05 = np.abs((data_2[data_2['class'] == 1]['proline'].quantile(0.75) - data_2[data_2['class'] == 1]['proline'].quantile(0.25)) - (data_2[data_2['class'] == 2]['proline'].quantile(0.75) - data_2[data_2['class'] == 2]['proline'].quantile(0.25)))\n",
    "answer_2_05"
   ]
  },
  {
   "cell_type": "code",
   "execution_count": 51,
   "metadata": {},
   "outputs": [],
   "source": [
    "X_train = pd.read_csv('./datasets/Part2/stellar_X_train.csv')\n",
    "X_test = pd.read_csv('./datasets/Part2/stellar_X_test.csv')\n",
    "y_train = pd.read_csv('./datasets/Part2/stellar_y_train.csv')"
   ]
  },
  {
   "cell_type": "code",
   "execution_count": 55,
   "metadata": {},
   "outputs": [],
   "source": [
    "from sklearn.model_selection import train_test_split"
   ]
  },
  {
   "cell_type": "code",
   "execution_count": null,
   "metadata": {},
   "outputs": [],
   "source": []
  }
 ],
 "metadata": {
  "kernelspec": {
   "display_name": "Python 3",
   "language": "python",
   "name": "python3"
  },
  "language_info": {
   "codemirror_mode": {
    "name": "ipython",
    "version": 3
   },
   "file_extension": ".py",
   "mimetype": "text/x-python",
   "name": "python",
   "nbconvert_exporter": "python",
   "pygments_lexer": "ipython3",
   "version": "3.11.4"
  },
  "orig_nbformat": 4
 },
 "nbformat": 4,
 "nbformat_minor": 2
}
